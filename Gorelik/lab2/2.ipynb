{
 "cells": [
  {
   "cell_type": "markdown",
   "metadata": {},
   "source": [
    "# ОИАД. Лабораторная работа №2"
   ]
  },
  {
   "cell_type": "markdown",
   "metadata": {},
   "source": [
    "### Загрузка датасета"
   ]
  },
  {
   "cell_type": "code",
   "execution_count": 1,
   "metadata": {},
   "outputs": [
    {
     "data": {
      "text/html": [
       "<div>\n",
       "<style scoped>\n",
       "    .dataframe tbody tr th:only-of-type {\n",
       "        vertical-align: middle;\n",
       "    }\n",
       "\n",
       "    .dataframe tbody tr th {\n",
       "        vertical-align: top;\n",
       "    }\n",
       "\n",
       "    .dataframe thead th {\n",
       "        text-align: right;\n",
       "    }\n",
       "</style>\n",
       "<table border=\"1\" class=\"dataframe\">\n",
       "  <thead>\n",
       "    <tr style=\"text-align: right;\">\n",
       "      <th></th>\n",
       "      <th>height</th>\n",
       "      <th>mass</th>\n",
       "      <th>income</th>\n",
       "      <th>iq</th>\n",
       "      <th>pages</th>\n",
       "      <th>age</th>\n",
       "      <th>bmi</th>\n",
       "      <th>work_exp</th>\n",
       "      <th>friends</th>\n",
       "      <th>test_time</th>\n",
       "    </tr>\n",
       "  </thead>\n",
       "  <tbody>\n",
       "    <tr>\n",
       "      <th>0</th>\n",
       "      <td>159</td>\n",
       "      <td>45</td>\n",
       "      <td>430</td>\n",
       "      <td>95</td>\n",
       "      <td>24</td>\n",
       "      <td>20</td>\n",
       "      <td>3.533</td>\n",
       "      <td>26</td>\n",
       "      <td>5</td>\n",
       "      <td>8.5</td>\n",
       "    </tr>\n",
       "    <tr>\n",
       "      <th>1</th>\n",
       "      <td>160</td>\n",
       "      <td>61</td>\n",
       "      <td>640</td>\n",
       "      <td>115</td>\n",
       "      <td>32</td>\n",
       "      <td>25</td>\n",
       "      <td>2.623</td>\n",
       "      <td>63</td>\n",
       "      <td>7</td>\n",
       "      <td>6.2</td>\n",
       "    </tr>\n",
       "    <tr>\n",
       "      <th>2</th>\n",
       "      <td>161</td>\n",
       "      <td>56</td>\n",
       "      <td>610</td>\n",
       "      <td>111</td>\n",
       "      <td>24</td>\n",
       "      <td>28</td>\n",
       "      <td>2.875</td>\n",
       "      <td>94</td>\n",
       "      <td>10</td>\n",
       "      <td>6.8</td>\n",
       "    </tr>\n",
       "    <tr>\n",
       "      <th>3</th>\n",
       "      <td>162</td>\n",
       "      <td>48</td>\n",
       "      <td>330</td>\n",
       "      <td>97</td>\n",
       "      <td>24</td>\n",
       "      <td>19</td>\n",
       "      <td>3.375</td>\n",
       "      <td>16</td>\n",
       "      <td>4</td>\n",
       "      <td>12.0</td>\n",
       "    </tr>\n",
       "    <tr>\n",
       "      <th>4</th>\n",
       "      <td>162</td>\n",
       "      <td>54</td>\n",
       "      <td>420</td>\n",
       "      <td>105</td>\n",
       "      <td>60</td>\n",
       "      <td>23</td>\n",
       "      <td>3.000</td>\n",
       "      <td>49</td>\n",
       "      <td>2</td>\n",
       "      <td>7.5</td>\n",
       "    </tr>\n",
       "  </tbody>\n",
       "</table>\n",
       "</div>"
      ],
      "text/plain": [
       "   height  mass  income   iq  pages  age    bmi  work_exp  friends  test_time\n",
       "0     159    45     430   95     24   20  3.533        26        5        8.5\n",
       "1     160    61     640  115     32   25  2.623        63        7        6.2\n",
       "2     161    56     610  111     24   28  2.875        94       10        6.8\n",
       "3     162    48     330   97     24   19  3.375        16        4       12.0\n",
       "4     162    54     420  105     60   23  3.000        49        2        7.5"
      ]
     },
     "execution_count": 1,
     "metadata": {},
     "output_type": "execute_result"
    }
   ],
   "source": [
    "import pandas as pd\n",
    "\n",
    "df = pd.read_csv('../../datasets/students_simple.csv')\n",
    "df.head()"
   ]
  },
  {
   "cell_type": "markdown",
   "metadata": {},
   "source": [
    "### Выбор столбцов"
   ]
  },
  {
   "cell_type": "code",
   "execution_count": 2,
   "metadata": {},
   "outputs": [
    {
     "name": "stdout",
     "output_type": "stream",
     "text": [
      "N1 = 3\n",
      "N2 = 8\n"
     ]
    }
   ],
   "source": [
    "print(f'N1 = {3 % 5}')\n",
    "print(f'N2 = {3 % 5 + 5}')"
   ]
  },
  {
   "cell_type": "code",
   "execution_count": 3,
   "metadata": {},
   "outputs": [
    {
     "data": {
      "text/html": [
       "<div>\n",
       "<style scoped>\n",
       "    .dataframe tbody tr th:only-of-type {\n",
       "        vertical-align: middle;\n",
       "    }\n",
       "\n",
       "    .dataframe tbody tr th {\n",
       "        vertical-align: top;\n",
       "    }\n",
       "\n",
       "    .dataframe thead th {\n",
       "        text-align: right;\n",
       "    }\n",
       "</style>\n",
       "<table border=\"1\" class=\"dataframe\">\n",
       "  <thead>\n",
       "    <tr style=\"text-align: right;\">\n",
       "      <th></th>\n",
       "      <th>income</th>\n",
       "      <th>work_exp</th>\n",
       "    </tr>\n",
       "  </thead>\n",
       "  <tbody>\n",
       "    <tr>\n",
       "      <th>0</th>\n",
       "      <td>430</td>\n",
       "      <td>26</td>\n",
       "    </tr>\n",
       "    <tr>\n",
       "      <th>1</th>\n",
       "      <td>640</td>\n",
       "      <td>63</td>\n",
       "    </tr>\n",
       "    <tr>\n",
       "      <th>2</th>\n",
       "      <td>610</td>\n",
       "      <td>94</td>\n",
       "    </tr>\n",
       "    <tr>\n",
       "      <th>3</th>\n",
       "      <td>330</td>\n",
       "      <td>16</td>\n",
       "    </tr>\n",
       "    <tr>\n",
       "      <th>4</th>\n",
       "      <td>420</td>\n",
       "      <td>49</td>\n",
       "    </tr>\n",
       "  </tbody>\n",
       "</table>\n",
       "</div>"
      ],
      "text/plain": [
       "   income  work_exp\n",
       "0     430        26\n",
       "1     640        63\n",
       "2     610        94\n",
       "3     330        16\n",
       "4     420        49"
      ]
     },
     "execution_count": 3,
     "metadata": {},
     "output_type": "execute_result"
    }
   ],
   "source": [
    "data = df[['income', 'work_exp']]\n",
    "data.head()"
   ]
  },
  {
   "cell_type": "markdown",
   "metadata": {},
   "source": [
    "## 1. Расчет корреляций"
   ]
  },
  {
   "cell_type": "markdown",
   "metadata": {},
   "source": [
    "### 1. Фехнера"
   ]
  },
  {
   "cell_type": "markdown",
   "metadata": {},
   "source": [
    "#### Формула коэффициента корреляции Фехнера\n",
    "\n",
    "##### Общий вид:\n",
    "\n",
    "$$\n",
    "r_F = \\frac{N_c - N_d}{N_c + N_d}\n",
    "$$\n",
    "\n",
    "где:\n",
    "- $r_F$ - коэффициент корреляции Фехнера\n",
    "- $N_c$ - количество совпадающих знаков отклонений от среднего\n",
    "- $N_d$ - количество несовпадающих знаков отклонений от среднего"
   ]
  },
  {
   "cell_type": "code",
   "execution_count": 4,
   "metadata": {},
   "outputs": [],
   "source": [
    "import numpy as np\n",
    "\n",
    "def fechner_correlation(df, col1='income', col2='work_exp'):\n",
    "    x = df[col1].values\n",
    "    y = df[col2].values\n",
    "    \n",
    "    mean_x = np.mean(x)\n",
    "    mean_y = np.mean(y)\n",
    "    \n",
    "    signs_x = np.sign(x - mean_x)\n",
    "    signs_y = np.sign(y - mean_y)\n",
    "    \n",
    "    matches = np.sum(signs_x == signs_y)\n",
    "    mismatches = np.sum(signs_x != signs_y)\n",
    "    \n",
    "    fechner_coef = (matches - mismatches) / (matches + mismatches)\n",
    "    \n",
    "    return fechner_coef"
   ]
  },
  {
   "cell_type": "code",
   "execution_count": 5,
   "metadata": {},
   "outputs": [
    {
     "name": "stdout",
     "output_type": "stream",
     "text": [
      "Корреляция Фехнера: 0.6\n"
     ]
    }
   ],
   "source": [
    "print(f'Корреляция Фехнера: {fechner_correlation(data)}')"
   ]
  },
  {
   "cell_type": "markdown",
   "metadata": {},
   "source": [
    "Вывод: умеренная положительная связь между переменными"
   ]
  },
  {
   "cell_type": "markdown",
   "metadata": {},
   "source": [
    "### 2. Пирсона + доверительный интервал"
   ]
  },
  {
   "cell_type": "code",
   "execution_count": 6,
   "metadata": {},
   "outputs": [],
   "source": [
    "import math\n",
    "\n",
    "def pearson_correlation(df, col1='income', col2='work_exp'):\n",
    "    x = df[col1].values\n",
    "    y = df[col2].values\n",
    "    \n",
    "    mask = ~(np.isnan(x) | np.isnan(y))\n",
    "    x_clean = x[mask]\n",
    "    y_clean = y[mask]\n",
    "    \n",
    "    n = len(x_clean)\n",
    "    \n",
    "    mean_x = sum(x_clean) / n\n",
    "    mean_y = sum(y_clean) / n\n",
    "    \n",
    "    covariance = 0.0\n",
    "    for i in range(n):\n",
    "        covariance += (x_clean[i] - mean_x) * (y_clean[i] - mean_y)\n",
    "    covariance = covariance / (n - 1)  \n",
    "    \n",
    "    std_x = 0.0\n",
    "    std_y = 0.0\n",
    "    \n",
    "    for i in range(n):\n",
    "        std_x += (x_clean[i] - mean_x) ** 2\n",
    "        std_y += (y_clean[i] - mean_y) ** 2\n",
    "    \n",
    "    std_x = math.sqrt(std_x / (n - 1))  \n",
    "    std_y = math.sqrt(std_y / (n - 1))  \n",
    "    \n",
    "    if std_x == 0 or std_y == 0:\n",
    "        correlation = 0.0  \n",
    "    else:\n",
    "        correlation = covariance / (std_x * std_y)\n",
    "    \n",
    "    return correlation"
   ]
  },
  {
   "cell_type": "code",
   "execution_count": 11,
   "metadata": {},
   "outputs": [
    {
     "name": "stdout",
     "output_type": "stream",
     "text": [
      "Корреляция Пирсона: 0.77\n"
     ]
    }
   ],
   "source": [
    "pearson_corr = pearson_correlation(data)\n",
    "print(f'Корреляция Пирсона: {pearson_corr:.2f}')"
   ]
  },
  {
   "cell_type": "markdown",
   "metadata": {},
   "source": [
    "Вывод: сильная положительная линейная связь между переменными"
   ]
  },
  {
   "cell_type": "markdown",
   "metadata": {},
   "source": [
    "### Формула расчета доверительного интервала для корреляции Пирсона\n",
    "\n",
    "#### Алгоритм расчета:\n",
    "\n",
    "##### 1. Z-преобразование Фишера (преобразование r в z)\n",
    "\n",
    "$$\n",
    "z_r = \\text{arctanh}(r) = \\frac{1}{2} \\ln\\left(\\frac{1 + r}{1 - r}\\right)\n",
    "$$\n",
    "\n",
    "##### 2. Стандартная ошибка z-преобразования\n",
    "\n",
    "$$\n",
    "SE_{z_r} = \\frac{1}{\\sqrt{n - 3}}\n",
    "$$\n",
    "\n",
    "##### 3. Доверительный интервал для z-преобразования\n",
    "\n",
    "$$\n",
    "\\text{ДИ}_{z_r} = z_r \\pm z_{\\alpha/2} \\times SE_{z_r}\n",
    "$$\n",
    "\n",
    "$$\n",
    "z_{lower} = z_r - z_{\\alpha/2} \\times SE_{z_r}\n",
    "$$\n",
    "$$\n",
    "z_{upper} = z_r + z_{\\alpha/2} \\times SE_{z_r}\n",
    "$$\n",
    "\n",
    "##### 4. Обратное преобразование к шкале корреляции\n",
    "\n",
    "$$\n",
    "r_{lower} = \\tanh(z_{lower}) = \\frac{e^{2z_{lower}} - 1}{e^{2z_{lower}} + 1}\n",
    "$$\n",
    "\n",
    "$$\n",
    "r_{upper} = \\tanh(z_{upper}) = \\frac{e^{2z_{upper}} - 1}{e^{2z_{upper}} + 1}\n",
    "$$\n",
    "\n",
    "### Итоговая формула доверительного интервала:\n",
    "\n",
    "$$\n",
    "\\text{ДИ}_r = \\left[ \\tanh\\left( \\text{arctanh}(r) - z_{\\alpha/2} \\cdot \\frac{1}{\\sqrt{n-3}} \\right), \\ \\tanh\\left( \\text{arctanh}(r) + z_{\\alpha/2} \\cdot \\frac{1}{\\sqrt{n-3}} \\right) \\right]\n",
    "$$\n",
    "\n",
    "### Обозначения:\n",
    "\n",
    "- $r$ - коэффициент корреляции Пирсона\n",
    "- $n$ - размер выборки\n",
    "- $z_{\\alpha/2}$ - критическое значение стандартного нормального распределения\n",
    "- $\\text{arctanh}$ - гиперболический арктангенс\n",
    "- $\\tanh$ - гиперболический тангенс\n",
    "\n",
    "### Критические значения $z_{\\alpha/2}$:\n",
    "\n",
    "- Для 90% ДИ: $z_{0.05} = 1.645$\n",
    "- Для 95% ДИ: $z_{0.025} = 1.960$\n",
    "- Для 99% ДИ: $z_{0.005} = 2.576$"
   ]
  },
  {
   "cell_type": "code",
   "execution_count": 20,
   "metadata": {},
   "outputs": [],
   "source": [
    "from scipy import stats\n",
    "\n",
    "def pearson_ci_from_r(r, n, confidence=0.95):\n",
    "    \n",
    "    zr = np.arctanh(r)\n",
    "    se = 1 / np.sqrt(n - 3)\n",
    "\n",
    "    z = stats.norm.ppf(1 - (1 - confidence) / 2)\n",
    "\n",
    "    ci_low_zr = zr - z * se\n",
    "    ci_high_zr = zr + z * se\n",
    "\n",
    "    ci_low = np.tanh(ci_low_zr)\n",
    "    ci_high = np.tanh(ci_high_zr)\n",
    "\n",
    "    return (ci_low, ci_high)"
   ]
  },
  {
   "cell_type": "code",
   "execution_count": 22,
   "metadata": {},
   "outputs": [
    {
     "name": "stdout",
     "output_type": "stream",
     "text": [
      "Доверительный интервал: [0.49, 0.90]\n"
     ]
    }
   ],
   "source": [
    "ci = pearson_ci_from_r(pearson_corr, len(data))\n",
    "print(f'Доверительный интервал: [{ci[0]:.2f}, {ci[1]:.2f}]')"
   ]
  },
  {
   "cell_type": "markdown",
   "metadata": {},
   "source": [
    "### 3. Спирмена"
   ]
  },
  {
   "cell_type": "markdown",
   "metadata": {},
   "source": [
    "### Корреляция Спирмена\n",
    "\n",
    "#### Основная формула:\n",
    "\n",
    "$$\\rho = 1 - \\frac{6 \\sum d_i^2}{n(n^2 - 1)}$$\n",
    "\n",
    "где:\n",
    "- $d_i = R(x_i) - R(y_i)$ - разность рангов\n",
    "- $n$ - количество наблюдений\n",
    "- $R(x_i)$, $R(y_i)$ - ранги значений\n",
    "\n",
    "#### С повторяющимися рангами:\n",
    "\n",
    "$$\\rho = \\frac{\\text{cov}(R_X, R_Y)}{\\sigma_{R_X} \\sigma_{R_Y}}$$\n",
    "\n",
    "#### Свойства:\n",
    "- $\\rho \\in [-1, 1]$\n",
    "- Непараметрическая мера монотонной связи\n",
    "- Устойчива к выбросам"
   ]
  },
  {
   "cell_type": "code",
   "execution_count": 23,
   "metadata": {},
   "outputs": [],
   "source": [
    "def spearman_correlation_manual(df, col1='income', col2='work_exp'):\n",
    "    x = df[col1].values\n",
    "    y = df[col2].values\n",
    "    \n",
    "    mask = ~(np.isnan(x) | np.isnan(y))\n",
    "    x_clean = x[mask]\n",
    "    y_clean = y[mask]\n",
    "    \n",
    "    n = len(x_clean)\n",
    "    \n",
    "    def calculate_ranks(data):\n",
    "        sorted_indices = np.argsort(data)\n",
    "        \n",
    "        ranks = np.zeros(len(data))\n",
    "        \n",
    "        for rank, idx in enumerate(sorted_indices):\n",
    "            ranks[idx] = rank + 1\n",
    "        \n",
    "        unique_values, counts = np.unique(data, return_counts=True)\n",
    "        \n",
    "        for value, count in zip(unique_values, counts):\n",
    "            if count > 1:\n",
    "                indices = np.where(data == value)[0]\n",
    "                mean_rank = np.mean(ranks[indices])\n",
    "                ranks[indices] = mean_rank\n",
    "        \n",
    "        return ranks\n",
    "    \n",
    "    rank_x = calculate_ranks(x_clean)\n",
    "    rank_y = calculate_ranks(y_clean)\n",
    "    \n",
    "    d = rank_x - rank_y\n",
    "    \n",
    "    sum_d_squared = np.sum(d ** 2)\n",
    "    \n",
    "    if len(np.unique(x_clean)) == n and len(np.unique(y_clean)) == n:\n",
    "        rho = 1 - (6 * sum_d_squared) / (n * (n ** 2 - 1))\n",
    "    else:\n",
    "        mean_rank = (n + 1) / 2\n",
    "        sum_x_sq = np.sum((rank_x - mean_rank) ** 2)\n",
    "        sum_y_sq = np.sum((rank_y - mean_rank) ** 2)\n",
    "        \n",
    "        rho = 1 - (sum_d_squared) / (2 * (sum_x_sq + sum_y_sq))\n",
    "    \n",
    "    return rho"
   ]
  },
  {
   "cell_type": "code",
   "execution_count": 25,
   "metadata": {},
   "outputs": [
    {
     "name": "stdout",
     "output_type": "stream",
     "text": [
      "Корреляция Спирмена: 0.86\n"
     ]
    }
   ],
   "source": [
    "print(f'Корреляция Спирмена: {spearman_correlation_manual(data):.2f}')"
   ]
  },
  {
   "cell_type": "markdown",
   "metadata": {},
   "source": [
    "Вывод: сильная монотонная связь между переменными"
   ]
  },
  {
   "cell_type": "markdown",
   "metadata": {},
   "source": [
    "### 4. Кенделла"
   ]
  },
  {
   "cell_type": "markdown",
   "metadata": {},
   "source": [
    "### Корреляция Кендалла (τ)\n",
    "\n",
    "#### Формула τ-b (учитывает связи):\n",
    "\n",
    "$$\\tau_b = \\frac{C - D}{\\sqrt{(C + D + T_x)(C + D + T_y)}}$$\n",
    "\n",
    "где:\n",
    "- $C$ - количество согласованных пар\n",
    "- $D$ - количество несогласованных пар  \n",
    "- $T_x$ - количество связей по X\n",
    "- $T_y$ - количество связей по Y\n",
    "\n",
    "#### Определение пар:\n",
    "\n",
    "##### Согласованная пара:\n",
    "$(x_i - x_j)(y_i - y_j) > 0$  \n",
    "(оба различия имеют одинаковый знак)\n",
    "\n",
    "##### Несогласованная пара:\n",
    "$(x_i - x_j)(y_i - y_j) < 0$  \n",
    "(различия имеют разные знаки)\n",
    "\n",
    "##### Связи (ties):\n",
    "- $x_i = x_j$ - связь по X\n",
    "- $y_i = y_j$ - связь по Y\n",
    "\n",
    "#### Свойства:\n",
    "- $\\tau \\in [-1, 1]$\n",
    "- Непараметрическая мера монотонной связи\n",
    "- Устойчива к выбросам\n",
    "- Интерпретация: вероятность согласованности минус вероятность несогласованности"
   ]
  },
  {
   "cell_type": "code",
   "execution_count": 26,
   "metadata": {},
   "outputs": [],
   "source": [
    "def kendall_correlation(df, col1='income', col2='work_exp'):\n",
    "    x = df[col1].values\n",
    "    y = df[col2].values\n",
    "    \n",
    "    mask = ~(np.isnan(x) | np.isnan(y))\n",
    "    x_clean = x[mask]\n",
    "    y_clean = y[mask]\n",
    "    \n",
    "    n = len(x_clean)\n",
    "    \n",
    "    concordant = 0  \n",
    "    discordant = 0 \n",
    "    tie_x = 0       \n",
    "    tie_y = 0      \n",
    "    \n",
    "    for i in range(n):\n",
    "        for j in range(i + 1, n):\n",
    "            dx = x_clean[i] - x_clean[j]\n",
    "            dy = y_clean[i] - y_clean[j]\n",
    "            \n",
    "            if dx * dy > 0:\n",
    "                concordant += 1\n",
    "            elif dx * dy < 0:\n",
    "                discordant += 1\n",
    "            else:\n",
    "                if dx == 0 and dy == 0:\n",
    "                    pass  \n",
    "                elif dx == 0:\n",
    "                    tie_x += 1\n",
    "                elif dy == 0:\n",
    "                    tie_y += 1\n",
    "    \n",
    "    total_pairs = n * (n - 1) / 2\n",
    "    \n",
    "    numerator = concordant - discordant\n",
    "    denominator = np.sqrt((concordant + discordant + tie_x) * (concordant + discordant + tie_y))\n",
    "    \n",
    "    if denominator == 0:\n",
    "        tau = 0.0\n",
    "    else:\n",
    "        tau = numerator / denominator\n",
    "    \n",
    "    return tau"
   ]
  },
  {
   "cell_type": "code",
   "execution_count": 27,
   "metadata": {},
   "outputs": [
    {
     "name": "stdout",
     "output_type": "stream",
     "text": [
      "Корреляция Кенделла: 0.63\n"
     ]
    }
   ],
   "source": [
    "print(f'Корреляция Кенделла: {kendall_correlation(data):.2f}')"
   ]
  },
  {
   "cell_type": "markdown",
   "metadata": {},
   "source": [
    "Вывод: сильная монотонная связь между переменными"
   ]
  },
  {
   "cell_type": "markdown",
   "metadata": {},
   "source": [
    "## 2. Визуализация\n",
    "### 1. Гистограммы"
   ]
  },
  {
   "cell_type": "code",
   "execution_count": 28,
   "metadata": {},
   "outputs": [
    {
     "data": {
      "image/png": "[encoded data removed]",
      "text/plain": [
       "<Figure size 1200x500 with 2 Axes>"
      ]
     },
     "metadata": {},
     "output_type": "display_data"
    }
   ],
   "source": [
    "import matplotlib.pyplot as plt\n",
    "import seaborn as sns\n",
    "\n",
    "fig, (ax1, ax2) = plt.subplots(1, 2, figsize=(12, 5))\n",
    "\n",
    "ax1.hist(df['income'], bins=20, alpha=0.7, color='skyblue', edgecolor='black')\n",
    "ax1.set_xlabel('Income')\n",
    "ax1.set_ylabel('Frequency')\n",
    "ax1.set_title('Histogram of Income')\n",
    "\n",
    "ax2.hist(df['work_exp'], bins=20, alpha=0.7, color='lightcoral', edgecolor='black')\n",
    "ax2.set_xlabel('Work Experience')\n",
    "ax2.set_ylabel('Frequency')\n",
    "ax2.set_title('Histogram of Work Experience')\n",
    "\n",
    "plt.tight_layout()\n",
    "plt.show()"
   ]
  },
  {
   "cell_type": "markdown",
   "metadata": {},
   "source": [
    "### 2. График рассеяния (scatter plot)"
   ]
  },
  {
   "cell_type": "code",
   "execution_count": 29,
   "metadata": {},
   "outputs": [
    {
     "data": {
      "image/png": "[encoded data removed]",
      "text/plain": [
       "<Figure size 800x600 with 1 Axes>"
      ]
     },
     "metadata": {},
     "output_type": "display_data"
    }
   ],
   "source": [
    "plt.figure(figsize=(8, 6))\n",
    "plt.scatter(df['work_exp'], df['income'], alpha=0.6, color='green')\n",
    "plt.xlabel('Work Experience')\n",
    "plt.ylabel('Income')\n",
    "plt.title('Scatter Plot: Income vs Work Experience')\n",
    "plt.show()"
   ]
  },
  {
   "cell_type": "markdown",
   "metadata": {},
   "source": [
    "## 3. Уравнение регрессии\n",
    "Построить уравнение регрессии по видам:\n",
    "1. линейная, $y=w_1 x + w_0$\n",
    "2. квадратичная, $y = w_2 x^2 + w_1 x + w_0$\n",
    "3. гиперболическая, $y = \\frac{w_1}{x} + w_0$ \n",
    "4. показательная, $y = w_1^x \\cdot w_0$\n",
    "\n",
    "Показать результаты на графиках"
   ]
  },
  {
   "cell_type": "markdown",
   "metadata": {},
   "source": [
    "#### Будем использовать Метод наименьших квадратов "
   ]
  },
  {
   "cell_type": "code",
   "execution_count": 30,
   "metadata": {},
   "outputs": [],
   "source": [
    "from sklearn.metrics import mean_squared_error"
   ]
  },
  {
   "cell_type": "code",
   "execution_count": 31,
   "metadata": {},
   "outputs": [],
   "source": [
    "x = df['work_exp'].values\n",
    "y = df['income'].values"
   ]
  },
  {
   "cell_type": "code",
   "execution_count": 32,
   "metadata": {},
   "outputs": [],
   "source": [
    "def calculate_error(y_true, y_pred):\n",
    "    return mean_squared_error(y_true, y_pred)"
   ]
  },
  {
   "cell_type": "markdown",
   "metadata": {},
   "source": [
    "### 1. Линейная регрессия: y = w1*x + w0"
   ]
  },
  {
   "cell_type": "code",
   "execution_count": 33,
   "metadata": {},
   "outputs": [],
   "source": [
    "coef_linear = np.polyfit(x, y, 1)\n",
    "w1_linear, w0_linear = coef_linear\n",
    "y_pred_linear = w1_linear * x + w0_linear\n",
    "error_linear = calculate_error(y, y_pred_linear)"
   ]
  },
  {
   "cell_type": "code",
   "execution_count": 42,
   "metadata": {},
   "outputs": [
    {
     "name": "stdout",
     "output_type": "stream",
     "text": [
      "Error: 9688.21\n"
     ]
    }
   ],
   "source": [
    "print(f'Error: {error_linear:.2f}')"
   ]
  },
  {
   "cell_type": "markdown",
   "metadata": {},
   "source": [
    "### Квадратичная регрессия: y = w2*x^2 + w1*x + w0"
   ]
  },
  {
   "cell_type": "code",
   "execution_count": 34,
   "metadata": {},
   "outputs": [],
   "source": [
    "coef_quad = np.polyfit(x, y, 2)\n",
    "w2_quad, w1_quad, w0_quad = coef_quad\n",
    "y_pred_quad = w2_quad * x**2 + w1_quad * x + w0_quad\n",
    "error_quad = calculate_error(y, y_pred_quad)"
   ]
  },
  {
   "cell_type": "code",
   "execution_count": 43,
   "metadata": {},
   "outputs": [
    {
     "name": "stdout",
     "output_type": "stream",
     "text": [
      "Error: 8101.15\n"
     ]
    }
   ],
   "source": [
    "print(f'Error: {error_quad:.2f}')"
   ]
  },
  {
   "cell_type": "markdown",
   "metadata": {},
   "source": [
    "### Гиперболическая регрессия: y = w1/x + w0"
   ]
  },
  {
   "cell_type": "code",
   "execution_count": 35,
   "metadata": {},
   "outputs": [],
   "source": [
    "x_hyper = 1 / x\n",
    "coef_hyper = np.polyfit(x_hyper, y, 1)\n",
    "w1_hyper, w0_hyper = coef_hyper\n",
    "y_pred_hyper = w1_hyper / x + w0_hyper\n",
    "error_hyper = calculate_error(y, y_pred_hyper)"
   ]
  },
  {
   "cell_type": "code",
   "execution_count": 44,
   "metadata": {},
   "outputs": [
    {
     "name": "stdout",
     "output_type": "stream",
     "text": [
      "Error: 18707.27\n"
     ]
    }
   ],
   "source": [
    "print(f'Error: {error_hyper:.2f}')"
   ]
  },
  {
   "cell_type": "markdown",
   "metadata": {},
   "source": [
    "### 4. Показательная регрессия: y = w1^x * w0\n",
    "### Линеаризация: ln(y) = x*ln(w1) + ln(w0)"
   ]
  },
  {
   "cell_type": "code",
   "execution_count": 36,
   "metadata": {},
   "outputs": [],
   "source": [
    "y_log = np.log(y)\n",
    "coef_exp = np.polyfit(x, y_log, 1)\n",
    "ln_w1, ln_w0 = coef_exp\n",
    "w1_exp = np.exp(ln_w1)\n",
    "w0_exp = np.exp(ln_w0)\n",
    "y_pred_exp = w0_exp * (w1_exp ** x)\n",
    "error_exp = calculate_error(y, y_pred_exp)"
   ]
  },
  {
   "cell_type": "code",
   "execution_count": 45,
   "metadata": {},
   "outputs": [
    {
     "name": "stdout",
     "output_type": "stream",
     "text": [
      "Error: 8945.69\n"
     ]
    }
   ],
   "source": [
    "print(f'Error: {error_exp:.2f}')"
   ]
  },
  {
   "cell_type": "markdown",
   "metadata": {},
   "source": [
    "### Построение графиков"
   ]
  },
  {
   "cell_type": "code",
   "execution_count": 39,
   "metadata": {},
   "outputs": [
    {
     "data": {
      "image/png": "[encoded data removed]",
      "text/plain": [
       "<Figure size 1500x1200 with 4 Axes>"
      ]
     },
     "metadata": {},
     "output_type": "display_data"
    }
   ],
   "source": [
    "# Построение графиков\n",
    "fig, axes = plt.subplots(2, 2, figsize=(15, 12))\n",
    "x_sorted = np.sort(x)\n",
    "x_range = np.linspace(x.min(), x.max(), 100)\n",
    "\n",
    "# 1. Линейная регрессия\n",
    "axes[0,0].scatter(x, y, alpha=0.6, color='blue', label='Data')\n",
    "axes[0,0].plot(x_sorted, w1_linear * x_sorted + w0_linear, 'r-', linewidth=2, \n",
    "               label=f'y = {w1_linear:.2f}x + {w0_linear:.2f}')\n",
    "axes[0,0].set_xlabel('Work Experience')\n",
    "axes[0,0].set_ylabel('Income')\n",
    "axes[0,0].set_title(f'Linear Regression (MSE: {error_linear:.2f})')\n",
    "axes[0,0].legend()\n",
    "axes[0,0].grid(True, alpha=0.3)\n",
    "\n",
    "# 2. Квадратичная регрессия\n",
    "axes[0,1].scatter(x, y, alpha=0.6, color='blue', label='Data')\n",
    "axes[0,1].plot(x_range, w2_quad * x_range**2 + w1_quad * x_range + w0_quad, 'r-', linewidth=2,\n",
    "               label=f'y = {w2_quad:.2f}x² + {w1_quad:.2f}x + {w0_quad:.2f}')\n",
    "axes[0,1].set_xlabel('Work Experience')\n",
    "axes[0,1].set_ylabel('Income')\n",
    "axes[0,1].set_title(f'Quadratic Regression (MSE: {error_quad:.2f})')\n",
    "axes[0,1].legend()\n",
    "axes[0,1].grid(True, alpha=0.3)\n",
    "\n",
    "# 3. Гиперболическая регрессия\n",
    "axes[1,0].scatter(x, y, alpha=0.6, color='blue', label='Data')\n",
    "axes[1,0].plot(x_range, w1_hyper / x_range + w0_hyper, 'r-', linewidth=2,\n",
    "               label=f'y = {w1_hyper:.2f}/x + {w0_hyper:.2f}')\n",
    "axes[1,0].set_xlabel('Work Experience')\n",
    "axes[1,0].set_ylabel('Income')\n",
    "axes[1,0].set_title(f'Hyperbolic Regression (MSE: {error_hyper:.2f})')\n",
    "axes[1,0].legend()\n",
    "axes[1,0].grid(True, alpha=0.3)\n",
    "\n",
    "# 4. Показательная регрессия\n",
    "axes[1,1].scatter(x, y, alpha=0.6, color='blue', label='Data')\n",
    "axes[1,1].plot(x_range, w0_exp * (w1_exp ** x_range), 'r-', linewidth=2,\n",
    "               label=f'y = {w0_exp:.2f} * {w1_exp:.2f}ˣ')\n",
    "axes[1,1].set_xlabel('Work Experience')\n",
    "axes[1,1].set_ylabel('Income')\n",
    "axes[1,1].set_title(f'Exponential Regression (MSE: {error_exp:.2f})')\n",
    "axes[1,1].legend()\n",
    "axes[1,1].grid(True, alpha=0.3)\n",
    "\n",
    "plt.tight_layout()\n",
    "plt.show()"
   ]
  },
  {
   "cell_type": "markdown",
   "metadata": {},
   "source": [
    "### Вывод: \n",
    "Наименьшая ошибка получилась при использовании квадратичной регрессии, наибольшая - при использовании гиперболической."
   ]
  },
  {
   "cell_type": "markdown",
   "metadata": {},
   "source": [
    "## 4. Проверка уравнения регрессии\n",
    "Для наилучшего и наихудшего уравнения регрессии проверить соотвествие моедли данным с помощью критерия Фишера"
   ]
  },
  {
   "cell_type": "markdown",
   "metadata": {},
   "source": [
    "### Критерий Фишера для сравнения регрессионных моделей\n",
    "\n",
    "#### Формула F-статистики:\n",
    "\n",
    "$$\n",
    "F = \\frac{\\frac{SSR_{\\text{worst}} - SSR_{\\text{best}}}{df_{\\text{worst}} - df_{\\text{best}}}}{\\frac{SSR_{\\text{best}}}{df_{\\text{best}}}}\n",
    "$$\n",
    "\n",
    "#### Обозначения:\n",
    "\n",
    "- $SSR_{\\text{best}}$ - сумма квадратов остатков наилучшей модели\n",
    "- $SSR_{\\text{worst}}$ - сумма квадратов остатков наихудшей модели  \n",
    "- $df_{\\text{best}}$ - степени свободы наилучшей модели: $n - k_{\\text{best}}$\n",
    "- $df_{\\text{worst}}$ - степени свободы наихудшей модели: $n - k_{\\text{worst}}$\n",
    "- $n$ - количество наблюдений\n",
    "- $k$ - количество параметров в модели\n",
    "\n",
    "#### Степени свободы:\n",
    "\n",
    "- Линейная модель: $k = 2$ параметра ($w_0, w_1$)\n",
    "- Квадратичная модель: $k = 3$ параметра ($w_0, w_1, w_2$)\n",
    "- Гиперболическая модель: $k = 2$ параметра ($w_0, w_1$)\n",
    "- Показательная модель: $k = 2$ параметра ($w_0, w_1$)\n",
    "\n",
    "#### Нулевая гипотеза:\n",
    "\n",
    "$H_0$: Модели одинаково хорошо описывают данные\n",
    "\n",
    "#### Критерий принятия решения:\n",
    "\n",
    "Если $F > F_{\\text{крит}}(\\alpha, df_1, df_2)$, то отвергаем $H_0$\n",
    "\n",
    "где:\n",
    "- $df_1 = df_{\\text{worst}} - df_{\\text{best}}$\n",
    "- $df_2 = df_{\\text{best}}$\n",
    "- $\\alpha$ - уровень значимости (обычно 0.05)"
   ]
  },
  {
   "cell_type": "code",
   "execution_count": 46,
   "metadata": {},
   "outputs": [
    {
     "name": "stdout",
     "output_type": "stream",
     "text": [
      "КРИТЕРИЙ ФИШЕРА: ПРОВЕРКА СООТВЕТСТВИЯ МОДЕЛЕЙ ДАННЫМ\n",
      "============================================================\n",
      "Наилучшая модель: Квадратичная регрессия\n",
      "Наихудшая модель: Гиперболическая регрессия\n",
      "Размер выборки: n = 20\n",
      "\n",
      "Сумма квадратов остатков (SSR) наилучшей модели: 162023.0982\n",
      "Сумма квадратов остатков (SSR) наихудшей модели: 374145.3729\n",
      "\n",
      "F-статистика: 22.2566\n",
      "Критическое значение F(1,17) при α=0.05: 4.4513\n",
      "P-value: 0.000199\n",
      "\n",
      "РЕЗУЛЬТАТ: Наилучшая модель СТАТИСТИЧЕСКИ ЗНАЧИМО лучше наихудшей\n",
      "           (отвергаем нулевую гипотезу о равенстве качества моделей)\n",
      "\n",
      "СРАВНЕНИЕ ОШИБОК:\n",
      "MSE наилучшей модели: 8101.1549\n",
      "MSE наихудшей модели: 18707.2686\n",
      "Улучшение: 56.7%\n"
     ]
    }
   ],
   "source": [
    "import scipy.stats as stats\n",
    "\n",
    "y_pred_best = y_pred_quad\n",
    "error_best = error_quad\n",
    "\n",
    "y_pred_worst = y_pred_hyper\n",
    "error_worst = error_hyper\n",
    "\n",
    "def calculate_fisher_test(y_true, y_pred_best, y_pred_worst):\n",
    "    n = len(y_true)\n",
    "    \n",
    "    SSR_best = np.sum((y_true - y_pred_best) ** 2) \n",
    "    SSR_worst = np.sum((y_true - y_pred_worst) ** 2) \n",
    "    \n",
    "    df_best = n - 3  # для квадратичной модели (3 параметра)\n",
    "    df_worst = n - 2  # для гиперболической модели (2 параметра)\n",
    "    \n",
    "    # F-статистика\n",
    "    F_statistic = ((SSR_worst - SSR_best) / (df_worst - df_best)) / (SSR_best / df_best)\n",
    "    \n",
    "    # P-value\n",
    "    p_value = 1 - stats.f.cdf(F_statistic, df_worst - df_best, df_best)\n",
    "    \n",
    "    return F_statistic, p_value, SSR_best, SSR_worst\n",
    "\n",
    "# Расчет F-критерия\n",
    "F_stat, p_value, SSR_best, SSR_worst = calculate_fisher_test(y, y_pred_best, y_pred_worst)\n",
    "\n",
    "# Критическое значение F-распределения\n",
    "alpha = 0.05\n",
    "df1 = (len(y) - 2) - (len(y) - 3)  \n",
    "df2 = len(y) - 3  \n",
    "F_critical = stats.f.ppf(1 - alpha, df1, df2)\n",
    "\n",
    "print(\"КРИТЕРИЙ ФИШЕРА: ПРОВЕРКА СООТВЕТСТВИЯ МОДЕЛЕЙ ДАННЫМ\")\n",
    "print(\"=\" * 60)\n",
    "print(f\"Наилучшая модель: Квадратичная регрессия\")\n",
    "print(f\"Наихудшая модель: Гиперболическая регрессия\")\n",
    "print(f\"Размер выборки: n = {len(y)}\")\n",
    "print()\n",
    "print(f\"Сумма квадратов остатков (SSR) наилучшей модели: {SSR_best:.4f}\")\n",
    "print(f\"Сумма квадратов остатков (SSR) наихудшей модели: {SSR_worst:.4f}\")\n",
    "print()\n",
    "print(f\"F-статистика: {F_stat:.4f}\")\n",
    "print(f\"Критическое значение F({df1},{df2}) при α={alpha}: {F_critical:.4f}\")\n",
    "print(f\"P-value: {p_value:.6f}\")\n",
    "print()\n",
    "\n",
    "if F_stat > F_critical:\n",
    "    print(\"РЕЗУЛЬТАТ: Наилучшая модель СТАТИСТИЧЕСКИ ЗНАЧИМО лучше наихудшей\")\n",
    "    print(\"           (отвергаем нулевую гипотезу о равенстве качества моделей)\")\n",
    "else:\n",
    "    print(\"РЕЗУЛЬТАТ: Наилучшая модель НЕ СТАТИСТИЧЕСКИ ЗНАЧИМО лучше наихудшей\")\n",
    "    print(\"           (нет оснований отвергать нулевую гипотезу)\")\n",
    "\n",
    "# Сравнение MSE\n",
    "print(\"\\nСРАВНЕНИЕ ОШИБОК:\")\n",
    "print(f\"MSE наилучшей модели: {error_best:.4f}\")\n",
    "print(f\"MSE наихудшей модели: {error_worst:.4f}\")\n",
    "print(f\"Улучшение: {((error_worst - error_best) / error_worst * 100):.1f}%\")"
   ]
  }
 ],
 "metadata": {
  "kernelspec": {
   "display_name": "Python 3.11.6 ('.venv': venv)",
   "language": "python",
   "name": "python3"
  },
  "language_info": {
   "codemirror_mode": {
    "name": "ipython",
    "version": 3
   },
   "file_extension": ".py",
   "mimetype": "text/x-python",
   "name": "python",
   "nbconvert_exporter": "python",
   "pygments_lexer": "ipython3",
   "version": "3.11.6"
  },
  "orig_nbformat": 4,
  "vscode": {
   "interpreter": {
    "hash": "2ed835da0c4e897a17bc1ab034d2a738515b368a452d24f1835102ef9051b04c"
   }
  }
 },
 "nbformat": 4,
 "nbformat_minor": 2
}
