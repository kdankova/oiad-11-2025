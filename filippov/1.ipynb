{
  "cells": [
    {
      "cell_type": "markdown",
      "id": "200143ee",
      "metadata": {
        "id": "200143ee"
      },
      "source": [
        "# ОИАД. Лабораторная работа №1\n",
        "\n",
        "Используйте набор данных 'datasets/teen_phone_addiction_dataset.csv'.\n",
        "\n",
        "Возьмите столбец $N \\% 7 $, где $N$ - номер в списке группы (см. ниже).\n",
        "\n",
        "## I.\n",
        "Рассчитайте характеристики:\n",
        "1. Среднее\n",
        "2. Дисперсия\n",
        "3. Мода\n",
        "4. Медиана\n",
        "5. Квантили уровня 0.25, 0.5, 0.75\n",
        "6. Эксцесс\n",
        "7. Ассиметрия\n",
        "8. Интерквартильный размах\n",
        "\n",
        "Построить графики:\n",
        "1. Гистограмма\n",
        "2. Эмпирическая функция распределения\n",
        "\n",
        "## II.\n",
        "Проверить данные на нормальность, используя критерии:\n",
        "1. Хи-квадрат (Реализовать самому, не используя библиотечные варианты!!)\n",
        "2. Ассиметрии и эксцесса\n",
        "\n",
        "Построить Q-Q plot\n",
        "\n",
        "## III.\n",
        "Используя техники обработки данных, постарайтесь привести данные к нормальному распределению.  Например, с помощью:\n",
        "1. Удаление, усечение выбросов\n",
        "2. Стандартизация, нормировка\n",
        "3. Логарифмирование и т.п.\n",
        "\n",
        "Выполните пункты I и II для обработанных данных\n",
        "\n",
        "## IV.\n",
        "Сгруппируйте данные по столбцу 'School_Grade'.\n",
        "\n",
        "1. На одном графике постройте гистограммы для каждой группы.\n",
        "2. Рассчитайте среднее, дисперсию внутри каждой группы\n",
        "\n",
        "## V.\n",
        "После каждого пункта сделайте промежуточные выводы:\n",
        "1. Опишите полученные числовые характеристики и графики\n",
        "2. Являются ли данные нормальными\n",
        "3. Эффект от обработки данных (удалось ли привести данные к нормальному виду)\n",
        "4. Различия распределений внутри разных групп 'School_Grade'\n",
        "\n",
        "\n"
      ]
    },
    {
      "cell_type": "markdown",
      "source": [
        "# Part I."
      ],
      "metadata": {
        "id": "ung2u-xjyn31"
      },
      "id": "ung2u-xjyn31"
    },
    {
      "cell_type": "code",
      "execution_count": 62,
      "id": "fba77674",
      "metadata": {
        "colab": {
          "base_uri": "https://localhost:8080/",
          "height": 36
        },
        "id": "fba77674",
        "outputId": "99fb3dbd-e7ff-4ff7-d47b-b53e123a25e9"
      },
      "outputs": [
        {
          "output_type": "execute_result",
          "data": {
            "text/plain": [
              "'Time_on_Gaming'"
            ],
            "application/vnd.google.colaboratory.intrinsic+json": {
              "type": "string"
            }
          },
          "metadata": {},
          "execution_count": 62
        }
      ],
      "source": [
        "N = 12\n",
        "cols = ['Daily_Usage_Hours', 'Sleep_Hours', 'Exercise_Hours', 'Screen_Time_Before_Bed', 'Time_on_Social_Media', 'Time_on_Gaming', 'Time_on_Education']\n",
        "cols[N % 7]"
      ]
    },
    {
      "cell_type": "code",
      "source": [
        "import numpy as np\n",
        "import pandas as pd\n",
        "import matplotlib.pyplot as plt\n",
        "import seaborn as sns\n",
        "from scipy import stats\n",
        "import statsmodels.api as sm"
      ],
      "metadata": {
        "id": "EEdSSk8ruhSI"
      },
      "id": "EEdSSk8ruhSI",
      "execution_count": 63,
      "outputs": []
    },
    {
      "cell_type": "code",
      "source": [
        "df = pd.read_csv(\"/content/teen_phone_addiction_dataset.csv\")\n",
        "df = df[cols]"
      ],
      "metadata": {
        "id": "cuUA03rbvjso"
      },
      "id": "cuUA03rbvjso",
      "execution_count": 64,
      "outputs": []
    },
    {
      "cell_type": "code",
      "source": [
        "df"
      ],
      "metadata": {
        "colab": {
          "base_uri": "https://localhost:8080/",
          "height": 443
        },
        "id": "SbSPL4aOvozQ",
        "outputId": "3a0b23c5-5e0a-4e0a-a267-71a6c608c4e2"
      },
      "id": "SbSPL4aOvozQ",
      "execution_count": 65,
      "outputs": [
        {
          "output_type": "execute_result",
          "data": {
            "text/plain": [
              "      Daily_Usage_Hours  Sleep_Hours  ...  Time_on_Gaming  Time_on_Education\n",
              "0                   4.0          6.1  ...             1.7                1.2\n",
              "1                   5.5          6.5  ...             4.0                1.8\n",
              "2                   5.8          5.5  ...             1.5                0.4\n",
              "3                   3.1          3.9  ...             1.6                0.8\n",
              "4                   2.5          6.7  ...             0.9                1.1\n",
              "...                 ...          ...  ...             ...                ...\n",
              "2995                3.9          6.4  ...             1.8                1.0\n",
              "2996                3.6          7.3  ...             0.0                0.3\n",
              "2997                3.2          6.5  ...             0.2                2.4\n",
              "2998                6.7          7.5  ...             2.6                1.5\n",
              "2999                3.5          6.9  ...             2.3                0.1\n",
              "\n",
              "[3000 rows x 7 columns]"
            ],
            "text/html": [
              "\n",
              "  <div id=\"df-fa30acce-63f0-493a-921f-dbcff3ccb6de\" class=\"colab-df-container\">\n",
              "    <div>\n",
              "<style scoped>\n",
              "    .dataframe tbody tr th:only-of-type {\n",
              "        vertical-align: middle;\n",
              "    }\n",
              "\n",
              "    .dataframe tbody tr th {\n",
              "        vertical-align: top;\n",
              "    }\n",
              "\n",
              "    .dataframe thead th {\n",
              "        text-align: right;\n",
              "    }\n",
              "</style>\n",
              "<table border=\"1\" class=\"dataframe\">\n",
              "  <thead>\n",
              "    <tr style=\"text-align: right;\">\n",
              "      <th></th>\n",
              "      <th>Daily_Usage_Hours</th>\n",
              "      <th>Sleep_Hours</th>\n",
              "      <th>Exercise_Hours</th>\n",
              "      <th>Screen_Time_Before_Bed</th>\n",
              "      <th>Time_on_Social_Media</th>\n",
              "      <th>Time_on_Gaming</th>\n",
              "      <th>Time_on_Education</th>\n",
              "    </tr>\n",
              "  </thead>\n",
              "  <tbody>\n",
              "    <tr>\n",
              "      <th>0</th>\n",
              "      <td>4.0</td>\n",
              "      <td>6.1</td>\n",
              "      <td>0.1</td>\n",
              "      <td>1.4</td>\n",
              "      <td>3.6</td>\n",
              "      <td>1.7</td>\n",
              "      <td>1.2</td>\n",
              "    </tr>\n",
              "    <tr>\n",
              "      <th>1</th>\n",
              "      <td>5.5</td>\n",
              "      <td>6.5</td>\n",
              "      <td>0.0</td>\n",
              "      <td>0.9</td>\n",
              "      <td>1.1</td>\n",
              "      <td>4.0</td>\n",
              "      <td>1.8</td>\n",
              "    </tr>\n",
              "    <tr>\n",
              "      <th>2</th>\n",
              "      <td>5.8</td>\n",
              "      <td>5.5</td>\n",
              "      <td>0.8</td>\n",
              "      <td>0.5</td>\n",
              "      <td>0.3</td>\n",
              "      <td>1.5</td>\n",
              "      <td>0.4</td>\n",
              "    </tr>\n",
              "    <tr>\n",
              "      <th>3</th>\n",
              "      <td>3.1</td>\n",
              "      <td>3.9</td>\n",
              "      <td>1.6</td>\n",
              "      <td>1.4</td>\n",
              "      <td>3.1</td>\n",
              "      <td>1.6</td>\n",
              "      <td>0.8</td>\n",
              "    </tr>\n",
              "    <tr>\n",
              "      <th>4</th>\n",
              "      <td>2.5</td>\n",
              "      <td>6.7</td>\n",
              "      <td>1.1</td>\n",
              "      <td>1.0</td>\n",
              "      <td>2.6</td>\n",
              "      <td>0.9</td>\n",
              "      <td>1.1</td>\n",
              "    </tr>\n",
              "    <tr>\n",
              "      <th>...</th>\n",
              "      <td>...</td>\n",
              "      <td>...</td>\n",
              "      <td>...</td>\n",
              "      <td>...</td>\n",
              "      <td>...</td>\n",
              "      <td>...</td>\n",
              "      <td>...</td>\n",
              "    </tr>\n",
              "    <tr>\n",
              "      <th>2995</th>\n",
              "      <td>3.9</td>\n",
              "      <td>6.4</td>\n",
              "      <td>0.9</td>\n",
              "      <td>0.3</td>\n",
              "      <td>2.7</td>\n",
              "      <td>1.8</td>\n",
              "      <td>1.0</td>\n",
              "    </tr>\n",
              "    <tr>\n",
              "      <th>2996</th>\n",
              "      <td>3.6</td>\n",
              "      <td>7.3</td>\n",
              "      <td>0.0</td>\n",
              "      <td>0.9</td>\n",
              "      <td>3.1</td>\n",
              "      <td>0.0</td>\n",
              "      <td>0.3</td>\n",
              "    </tr>\n",
              "    <tr>\n",
              "      <th>2997</th>\n",
              "      <td>3.2</td>\n",
              "      <td>6.5</td>\n",
              "      <td>0.0</td>\n",
              "      <td>0.2</td>\n",
              "      <td>2.4</td>\n",
              "      <td>0.2</td>\n",
              "      <td>2.4</td>\n",
              "    </tr>\n",
              "    <tr>\n",
              "      <th>2998</th>\n",
              "      <td>6.7</td>\n",
              "      <td>7.5</td>\n",
              "      <td>0.2</td>\n",
              "      <td>1.6</td>\n",
              "      <td>1.7</td>\n",
              "      <td>2.6</td>\n",
              "      <td>1.5</td>\n",
              "    </tr>\n",
              "    <tr>\n",
              "      <th>2999</th>\n",
              "      <td>3.5</td>\n",
              "      <td>6.9</td>\n",
              "      <td>2.1</td>\n",
              "      <td>0.6</td>\n",
              "      <td>0.0</td>\n",
              "      <td>2.3</td>\n",
              "      <td>0.1</td>\n",
              "    </tr>\n",
              "  </tbody>\n",
              "</table>\n",
              "<p>3000 rows × 7 columns</p>\n",
              "</div>\n",
              "    <div class=\"colab-df-buttons\">\n",
              "\n",
              "  <div class=\"colab-df-container\">\n",
              "    <button class=\"colab-df-convert\" onclick=\"convertToInteractive('df-fa30acce-63f0-493a-921f-dbcff3ccb6de')\"\n",
              "            title=\"Convert this dataframe to an interactive table.\"\n",
              "            style=\"display:none;\">\n",
              "\n",
              "  <svg xmlns=\"http://www.w3.org/2000/svg\" height=\"24px\" viewBox=\"0 -960 960 960\">\n",
              "    <path d=\"M120-120v-720h720v720H120Zm60-500h600v-160H180v160Zm220 220h160v-160H400v160Zm0 220h160v-160H400v160ZM180-400h160v-160H180v160Zm440 0h160v-160H620v160ZM180-180h160v-160H180v160Zm440 0h160v-160H620v160Z\"/>\n",
              "  </svg>\n",
              "    </button>\n",
              "\n",
              "  <style>\n",
              "    .colab-df-container {\n",
              "      display:flex;\n",
              "      gap: 12px;\n",
              "    }\n",
              "\n",
              "    .colab-df-convert {\n",
              "      background-color: #E8F0FE;\n",
              "      border: none;\n",
              "      border-radius: 50%;\n",
              "      cursor: pointer;\n",
              "      display: none;\n",
              "      fill: #1967D2;\n",
              "      height: 32px;\n",
              "      padding: 0 0 0 0;\n",
              "      width: 32px;\n",
              "    }\n",
              "\n",
              "    .colab-df-convert:hover {\n",
              "      background-color: #E2EBFA;\n",
              "      box-shadow: 0px 1px 2px rgba(60, 64, 67, 0.3), 0px 1px 3px 1px rgba(60, 64, 67, 0.15);\n",
              "      fill: #174EA6;\n",
              "    }\n",
              "\n",
              "    .colab-df-buttons div {\n",
              "      margin-bottom: 4px;\n",
              "    }\n",
              "\n",
              "    [theme=dark] .colab-df-convert {\n",
              "      background-color: #3B4455;\n",
              "      fill: #D2E3FC;\n",
              "    }\n",
              "\n",
              "    [theme=dark] .colab-df-convert:hover {\n",
              "      background-color: #434B5C;\n",
              "      box-shadow: 0px 1px 3px 1px rgba(0, 0, 0, 0.15);\n",
              "      filter: drop-shadow(0px 1px 2px rgba(0, 0, 0, 0.3));\n",
              "      fill: #FFFFFF;\n",
              "    }\n",
              "  </style>\n",
              "\n",
              "    <script>\n",
              "      const buttonEl =\n",
              "        document.querySelector('#df-fa30acce-63f0-493a-921f-dbcff3ccb6de button.colab-df-convert');\n",
              "      buttonEl.style.display =\n",
              "        google.colab.kernel.accessAllowed ? 'block' : 'none';\n",
              "\n",
              "      async function convertToInteractive(key) {\n",
              "        const element = document.querySelector('#df-fa30acce-63f0-493a-921f-dbcff3ccb6de');\n",
              "        const dataTable =\n",
              "          await google.colab.kernel.invokeFunction('convertToInteractive',\n",
              "                                                    [key], {});\n",
              "        if (!dataTable) return;\n",
              "\n",
              "        const docLinkHtml = 'Like what you see? Visit the ' +\n",
              "          '<a target=\"_blank\" href=https://colab.research.google.com/notebooks/data_table.ipynb>data table notebook</a>'\n",
              "          + ' to learn more about interactive tables.';\n",
              "        element.innerHTML = '';\n",
              "        dataTable['output_type'] = 'display_data';\n",
              "        await google.colab.output.renderOutput(dataTable, element);\n",
              "        const docLink = document.createElement('div');\n",
              "        docLink.innerHTML = docLinkHtml;\n",
              "        element.appendChild(docLink);\n",
              "      }\n",
              "    </script>\n",
              "  </div>\n",
              "\n",
              "\n",
              "    <div id=\"df-9971f660-5be8-4377-986a-adce66a963c3\">\n",
              "      <button class=\"colab-df-quickchart\" onclick=\"quickchart('df-9971f660-5be8-4377-986a-adce66a963c3')\"\n",
              "                title=\"Suggest charts\"\n",
              "                style=\"display:none;\">\n",
              "\n",
              "<svg xmlns=\"http://www.w3.org/2000/svg\" height=\"24px\"viewBox=\"0 0 24 24\"\n",
              "     width=\"24px\">\n",
              "    <g>\n",
              "        <path d=\"M19 3H5c-1.1 0-2 .9-2 2v14c0 1.1.9 2 2 2h14c1.1 0 2-.9 2-2V5c0-1.1-.9-2-2-2zM9 17H7v-7h2v7zm4 0h-2V7h2v10zm4 0h-2v-4h2v4z\"/>\n",
              "    </g>\n",
              "</svg>\n",
              "      </button>\n",
              "\n",
              "<style>\n",
              "  .colab-df-quickchart {\n",
              "      --bg-color: #E8F0FE;\n",
              "      --fill-color: #1967D2;\n",
              "      --hover-bg-color: #E2EBFA;\n",
              "      --hover-fill-color: #174EA6;\n",
              "      --disabled-fill-color: #AAA;\n",
              "      --disabled-bg-color: #DDD;\n",
              "  }\n",
              "\n",
              "  [theme=dark] .colab-df-quickchart {\n",
              "      --bg-color: #3B4455;\n",
              "      --fill-color: #D2E3FC;\n",
              "      --hover-bg-color: #434B5C;\n",
              "      --hover-fill-color: #FFFFFF;\n",
              "      --disabled-bg-color: #3B4455;\n",
              "      --disabled-fill-color: #666;\n",
              "  }\n",
              "\n",
              "  .colab-df-quickchart {\n",
              "    background-color: var(--bg-color);\n",
              "    border: none;\n",
              "    border-radius: 50%;\n",
              "    cursor: pointer;\n",
              "    display: none;\n",
              "    fill: var(--fill-color);\n",
              "    height: 32px;\n",
              "    padding: 0;\n",
              "    width: 32px;\n",
              "  }\n",
              "\n",
              "  .colab-df-quickchart:hover {\n",
              "    background-color: var(--hover-bg-color);\n",
              "    box-shadow: 0 1px 2px rgba(60, 64, 67, 0.3), 0 1px 3px 1px rgba(60, 64, 67, 0.15);\n",
              "    fill: var(--button-hover-fill-color);\n",
              "  }\n",
              "\n",
              "  .colab-df-quickchart-complete:disabled,\n",
              "  .colab-df-quickchart-complete:disabled:hover {\n",
              "    background-color: var(--disabled-bg-color);\n",
              "    fill: var(--disabled-fill-color);\n",
              "    box-shadow: none;\n",
              "  }\n",
              "\n",
              "  .colab-df-spinner {\n",
              "    border: 2px solid var(--fill-color);\n",
              "    border-color: transparent;\n",
              "    border-bottom-color: var(--fill-color);\n",
              "    animation:\n",
              "      spin 1s steps(1) infinite;\n",
              "  }\n",
              "\n",
              "  @keyframes spin {\n",
              "    0% {\n",
              "      border-color: transparent;\n",
              "      border-bottom-color: var(--fill-color);\n",
              "      border-left-color: var(--fill-color);\n",
              "    }\n",
              "    20% {\n",
              "      border-color: transparent;\n",
              "      border-left-color: var(--fill-color);\n",
              "      border-top-color: var(--fill-color);\n",
              "    }\n",
              "    30% {\n",
              "      border-color: transparent;\n",
              "      border-left-color: var(--fill-color);\n",
              "      border-top-color: var(--fill-color);\n",
              "      border-right-color: var(--fill-color);\n",
              "    }\n",
              "    40% {\n",
              "      border-color: transparent;\n",
              "      border-right-color: var(--fill-color);\n",
              "      border-top-color: var(--fill-color);\n",
              "    }\n",
              "    60% {\n",
              "      border-color: transparent;\n",
              "      border-right-color: var(--fill-color);\n",
              "    }\n",
              "    80% {\n",
              "      border-color: transparent;\n",
              "      border-right-color: var(--fill-color);\n",
              "      border-bottom-color: var(--fill-color);\n",
              "    }\n",
              "    90% {\n",
              "      border-color: transparent;\n",
              "      border-bottom-color: var(--fill-color);\n",
              "    }\n",
              "  }\n",
              "</style>\n",
              "\n",
              "      <script>\n",
              "        async function quickchart(key) {\n",
              "          const quickchartButtonEl =\n",
              "            document.querySelector('#' + key + ' button');\n",
              "          quickchartButtonEl.disabled = true;  // To prevent multiple clicks.\n",
              "          quickchartButtonEl.classList.add('colab-df-spinner');\n",
              "          try {\n",
              "            const charts = await google.colab.kernel.invokeFunction(\n",
              "                'suggestCharts', [key], {});\n",
              "          } catch (error) {\n",
              "            console.error('Error during call to suggestCharts:', error);\n",
              "          }\n",
              "          quickchartButtonEl.classList.remove('colab-df-spinner');\n",
              "          quickchartButtonEl.classList.add('colab-df-quickchart-complete');\n",
              "        }\n",
              "        (() => {\n",
              "          let quickchartButtonEl =\n",
              "            document.querySelector('#df-9971f660-5be8-4377-986a-adce66a963c3 button');\n",
              "          quickchartButtonEl.style.display =\n",
              "            google.colab.kernel.accessAllowed ? 'block' : 'none';\n",
              "        })();\n",
              "      </script>\n",
              "    </div>\n",
              "    </div>\n",
              "  </div>\n"
            ],
            "application/vnd.google.colaboratory.intrinsic+json": {
              "type": "dataframe",
              "variable_name": "df",
              "summary": "{\n  \"name\": \"df\",\n  \"rows\": 3000,\n  \"fields\": [\n    {\n      \"column\": \"Daily_Usage_Hours\",\n      \"properties\": {\n        \"dtype\": \"number\",\n        \"std\": 1.9565008358621077,\n        \"min\": 0.0,\n        \"max\": 11.5,\n        \"num_unique_values\": 107,\n        \"samples\": [\n          8.9,\n          1.6,\n          2.5\n        ],\n        \"semantic_type\": \"\",\n        \"description\": \"\"\n      }\n    },\n    {\n      \"column\": \"Sleep_Hours\",\n      \"properties\": {\n        \"dtype\": \"number\",\n        \"std\": 1.4907132591131895,\n        \"min\": 3.0,\n        \"max\": 10.0,\n        \"num_unique_values\": 71,\n        \"samples\": [\n          6.8,\n          6.1,\n          5.4\n        ],\n        \"semantic_type\": \"\",\n        \"description\": \"\"\n      }\n    },\n    {\n      \"column\": \"Exercise_Hours\",\n      \"properties\": {\n        \"dtype\": \"number\",\n        \"std\": 0.7346197049670407,\n        \"min\": 0.0,\n        \"max\": 4.0,\n        \"num_unique_values\": 39,\n        \"samples\": [\n          4.0,\n          3.1,\n          1.1\n        ],\n        \"semantic_type\": \"\",\n        \"description\": \"\"\n      }\n    },\n    {\n      \"column\": \"Screen_Time_Before_Bed\",\n      \"properties\": {\n        \"dtype\": \"number\",\n        \"std\": 0.4928782525933928,\n        \"min\": 0.0,\n        \"max\": 2.6,\n        \"num_unique_values\": 27,\n        \"samples\": [\n          1.2,\n          1.6,\n          1.5\n        ],\n        \"semantic_type\": \"\",\n        \"description\": \"\"\n      }\n    },\n    {\n      \"column\": \"Time_on_Social_Media\",\n      \"properties\": {\n        \"dtype\": \"number\",\n        \"std\": 0.9882011904228516,\n        \"min\": 0.0,\n        \"max\": 5.0,\n        \"num_unique_values\": 51,\n        \"samples\": [\n          1.5,\n          0.1,\n          0.8\n        ],\n        \"semantic_type\": \"\",\n        \"description\": \"\"\n      }\n    },\n    {\n      \"column\": \"Time_on_Gaming\",\n      \"properties\": {\n        \"dtype\": \"number\",\n        \"std\": 0.9327012237294824,\n        \"min\": 0.0,\n        \"max\": 4.0,\n        \"num_unique_values\": 41,\n        \"samples\": [\n          2.9,\n          1.0,\n          0.4\n        ],\n        \"semantic_type\": \"\",\n        \"description\": \"\"\n      }\n    },\n    {\n      \"column\": \"Time_on_Education\",\n      \"properties\": {\n        \"dtype\": \"number\",\n        \"std\": 0.6483414772422013,\n        \"min\": 0.0,\n        \"max\": 3.0,\n        \"num_unique_values\": 31,\n        \"samples\": [\n          2.3,\n          0.7,\n          0.3\n        ],\n        \"semantic_type\": \"\",\n        \"description\": \"\"\n      }\n    }\n  ]\n}"
            }
          },
          "metadata": {},
          "execution_count": 65
        }
      ]
    },
    {
      "cell_type": "code",
      "source": [
        "data = df[cols[N%7]]"
      ],
      "metadata": {
        "id": "_1_rDCBivsnt"
      },
      "id": "_1_rDCBivsnt",
      "execution_count": 66,
      "outputs": []
    },
    {
      "cell_type": "code",
      "source": [
        "data"
      ],
      "metadata": {
        "colab": {
          "base_uri": "https://localhost:8080/",
          "height": 458
        },
        "id": "ktLYiZesvxHN",
        "outputId": "463adc2a-6aac-480f-ab8b-fe38e8ec847a"
      },
      "id": "ktLYiZesvxHN",
      "execution_count": 67,
      "outputs": [
        {
          "output_type": "execute_result",
          "data": {
            "text/plain": [
              "0       1.7\n",
              "1       4.0\n",
              "2       1.5\n",
              "3       1.6\n",
              "4       0.9\n",
              "       ... \n",
              "2995    1.8\n",
              "2996    0.0\n",
              "2997    0.2\n",
              "2998    2.6\n",
              "2999    2.3\n",
              "Name: Time_on_Gaming, Length: 3000, dtype: float64"
            ],
            "text/html": [
              "<div>\n",
              "<style scoped>\n",
              "    .dataframe tbody tr th:only-of-type {\n",
              "        vertical-align: middle;\n",
              "    }\n",
              "\n",
              "    .dataframe tbody tr th {\n",
              "        vertical-align: top;\n",
              "    }\n",
              "\n",
              "    .dataframe thead th {\n",
              "        text-align: right;\n",
              "    }\n",
              "</style>\n",
              "<table border=\"1\" class=\"dataframe\">\n",
              "  <thead>\n",
              "    <tr style=\"text-align: right;\">\n",
              "      <th></th>\n",
              "      <th>Time_on_Gaming</th>\n",
              "    </tr>\n",
              "  </thead>\n",
              "  <tbody>\n",
              "    <tr>\n",
              "      <th>0</th>\n",
              "      <td>1.7</td>\n",
              "    </tr>\n",
              "    <tr>\n",
              "      <th>1</th>\n",
              "      <td>4.0</td>\n",
              "    </tr>\n",
              "    <tr>\n",
              "      <th>2</th>\n",
              "      <td>1.5</td>\n",
              "    </tr>\n",
              "    <tr>\n",
              "      <th>3</th>\n",
              "      <td>1.6</td>\n",
              "    </tr>\n",
              "    <tr>\n",
              "      <th>4</th>\n",
              "      <td>0.9</td>\n",
              "    </tr>\n",
              "    <tr>\n",
              "      <th>...</th>\n",
              "      <td>...</td>\n",
              "    </tr>\n",
              "    <tr>\n",
              "      <th>2995</th>\n",
              "      <td>1.8</td>\n",
              "    </tr>\n",
              "    <tr>\n",
              "      <th>2996</th>\n",
              "      <td>0.0</td>\n",
              "    </tr>\n",
              "    <tr>\n",
              "      <th>2997</th>\n",
              "      <td>0.2</td>\n",
              "    </tr>\n",
              "    <tr>\n",
              "      <th>2998</th>\n",
              "      <td>2.6</td>\n",
              "    </tr>\n",
              "    <tr>\n",
              "      <th>2999</th>\n",
              "      <td>2.3</td>\n",
              "    </tr>\n",
              "  </tbody>\n",
              "</table>\n",
              "<p>3000 rows × 1 columns</p>\n",
              "</div><br><label><b>dtype:</b> float64</label>"
            ]
          },
          "metadata": {},
          "execution_count": 67
        }
      ]
    },
    {
      "cell_type": "code",
      "source": [
        "data.describe()"
      ],
      "metadata": {
        "colab": {
          "base_uri": "https://localhost:8080/",
          "height": 335
        },
        "id": "6YmfHOE5vxih",
        "outputId": "44396485-52e3-440e-f14c-e2c349538d49"
      },
      "id": "6YmfHOE5vxih",
      "execution_count": 68,
      "outputs": [
        {
          "output_type": "execute_result",
          "data": {
            "text/plain": [
              "count    3000.000000\n",
              "mean        1.525267\n",
              "std         0.932701\n",
              "min         0.000000\n",
              "25%         0.800000\n",
              "50%         1.500000\n",
              "75%         2.200000\n",
              "max         4.000000\n",
              "Name: Time_on_Gaming, dtype: float64"
            ],
            "text/html": [
              "<div>\n",
              "<style scoped>\n",
              "    .dataframe tbody tr th:only-of-type {\n",
              "        vertical-align: middle;\n",
              "    }\n",
              "\n",
              "    .dataframe tbody tr th {\n",
              "        vertical-align: top;\n",
              "    }\n",
              "\n",
              "    .dataframe thead th {\n",
              "        text-align: right;\n",
              "    }\n",
              "</style>\n",
              "<table border=\"1\" class=\"dataframe\">\n",
              "  <thead>\n",
              "    <tr style=\"text-align: right;\">\n",
              "      <th></th>\n",
              "      <th>Time_on_Gaming</th>\n",
              "    </tr>\n",
              "  </thead>\n",
              "  <tbody>\n",
              "    <tr>\n",
              "      <th>count</th>\n",
              "      <td>3000.000000</td>\n",
              "    </tr>\n",
              "    <tr>\n",
              "      <th>mean</th>\n",
              "      <td>1.525267</td>\n",
              "    </tr>\n",
              "    <tr>\n",
              "      <th>std</th>\n",
              "      <td>0.932701</td>\n",
              "    </tr>\n",
              "    <tr>\n",
              "      <th>min</th>\n",
              "      <td>0.000000</td>\n",
              "    </tr>\n",
              "    <tr>\n",
              "      <th>25%</th>\n",
              "      <td>0.800000</td>\n",
              "    </tr>\n",
              "    <tr>\n",
              "      <th>50%</th>\n",
              "      <td>1.500000</td>\n",
              "    </tr>\n",
              "    <tr>\n",
              "      <th>75%</th>\n",
              "      <td>2.200000</td>\n",
              "    </tr>\n",
              "    <tr>\n",
              "      <th>max</th>\n",
              "      <td>4.000000</td>\n",
              "    </tr>\n",
              "  </tbody>\n",
              "</table>\n",
              "</div><br><label><b>dtype:</b> float64</label>"
            ]
          },
          "metadata": {},
          "execution_count": 68
        }
      ]
    },
    {
      "cell_type": "code",
      "source": [
        "mean = data.mean()\n",
        "var = data.var(ddof=1)\n",
        "std = var ** 0.5\n",
        "mode = data.mode().iat[0]\n",
        "median = data.median()\n",
        "\n",
        "print(mean, var, std, mode, median)"
      ],
      "metadata": {
        "colab": {
          "base_uri": "https://localhost:8080/"
        },
        "id": "Tc-_IHzSwAoR",
        "outputId": "4762a950-bc9c-45df-dd5b-50f0b0a0c783"
      },
      "id": "Tc-_IHzSwAoR",
      "execution_count": 69,
      "outputs": [
        {
          "output_type": "stream",
          "name": "stdout",
          "text": [
            "1.5252666666666663 0.869931572746474 0.9327012237294824 0.0 1.5\n"
          ]
        }
      ]
    },
    {
      "cell_type": "code",
      "source": [
        "diffs = data - mean\n",
        "kurtosis = (diffs ** 4).mean() / std ** 4 - 3\n",
        "skewness = (diffs ** 3).mean() / std ** 3\n",
        "\n",
        "print(kurtosis, skewness)"
      ],
      "metadata": {
        "colab": {
          "base_uri": "https://localhost:8080/"
        },
        "id": "1UO774ZawiL2",
        "outputId": "08afe19a-1372-403c-9fc1-c43969251973"
      },
      "id": "1UO774ZawiL2",
      "execution_count": 70,
      "outputs": [
        {
          "output_type": "stream",
          "name": "stdout",
          "text": [
            "-0.5010425389729258 0.258751864875512\n"
          ]
        }
      ]
    },
    {
      "cell_type": "code",
      "source": [
        "plt.figure(figsize=(12,4))\n",
        "\n",
        "plt.subplot(1,2,1)\n",
        "sns.histplot(data, bins = 1 + 12, kde = False)\n",
        "plt.title(\"Histogramm\")\n",
        "\n",
        "plt.subplot(1,2,2)\n",
        "ecdf = sm.distributions.ECDF(data)\n",
        "x_ecdf = np.linspace(data.min(), data.max(), 3000)\n",
        "y_ecdf = ecdf(x_ecdf)\n",
        "plt.step(x_ecdf, y_ecdf)\n",
        "plt.title(\"Empirical Distribution\")\n",
        "\n",
        "plt.tight_layout()\n",
        "plt.show()"
      ],
      "metadata": {
        "colab": {
          "base_uri": "https://localhost:8080/",
          "height": 427
        },
        "id": "KNMnbmM7y3D1",
        "outputId": "d1be4c99-05de-4d85-f1ac-966ef8da834a"
      },
      "id": "KNMnbmM7y3D1",
      "execution_count": 71,
      "outputs": [
        {
          "output_type": "display_data",
          "data": {
            "text/plain": [
              "<Figure size 1200x400 with 2 Axes>"
            ],
            "image/png": "[encoded data removed]"
          },
          "metadata": {}
        }
      ]
    },
    {
      "cell_type": "markdown",
      "source": [
        "Среднее значение столбца получилось около 1.53, дисперсия - 0.87, стандартное отклонение - 0.93. Мода равна 0, медиана - 1.5. Квантили: 0.25-й квантиль ≈ 0.8, 0.5-й - 1.5, 0.75-й - 2.2. Интерквартильный размах IQR = 1.4. Эксцесс - 0.50, асимметрия +0.26.\n",
        "\n",
        "на гистограмме предположительно видно двухмодальное распределение с пиками на 0, 1.75\n",
        "\n",
        "на ЭФР участки перегиба указывают на неравномерную накопленность значений\n",
        "\n",
        "Нормальность распределения исходных данных явно не выполняется: асимметрия и эксцесс далеки от нуля, визуально хвосты расходятся с формой колоколa."
      ],
      "metadata": {
        "id": "x5YEOpXuhT-e"
      },
      "id": "x5YEOpXuhT-e"
    },
    {
      "cell_type": "markdown",
      "source": [
        "# Part II."
      ],
      "metadata": {
        "id": "4QS41NYpyygr"
      },
      "id": "4QS41NYpyygr"
    },
    {
      "cell_type": "code",
      "source": [
        "from scipy.stats import chi2\n",
        "\n",
        "bins = 1 + 12\n",
        "counts, bin_edges = np.histogram(data, bins = bins)\n",
        "mu, sigma = mean, std\n",
        "\n",
        "expected = []\n",
        "for i in range(len(bin_edges)-1):\n",
        "  cdf_low = stats.norm.cdf(bin_edges[i], mu, sigma)\n",
        "  cdf_high = stats.norm.cdf(bin_edges[i+1], mu, sigma)\n",
        "  expected.append(3000 * (cdf_high - cdf_low))\n",
        "\n",
        "chi2_stat = np.sum((counts - expected)**2 / expected)\n",
        "df_chi2 = bins - 1 - 2\n",
        "p_value = 1 - chi2.cdf(chi2_stat, df_chi2)\n",
        "\n",
        "print(chi2_stat, df_chi2, p_value)"
      ],
      "metadata": {
        "colab": {
          "base_uri": "https://localhost:8080/"
        },
        "id": "zAbYdH1zx3eh",
        "outputId": "74730422-12e2-44f2-bb5d-9143cc7b4538"
      },
      "id": "zAbYdH1zx3eh",
      "execution_count": 72,
      "outputs": [
        {
          "output_type": "stream",
          "name": "stdout",
          "text": [
            "507.4114082775858 10 0.0\n"
          ]
        }
      ]
    },
    {
      "cell_type": "code",
      "source": [
        "z_skewness = skewness / (6/3000) ** 0.5\n",
        "z_kurtosis = kurtosis / (24/3000) ** 0.5\n",
        "z_criterion = stats.norm.ppf(0.975)\n",
        "\n",
        "print(z_skewness, z_kurtosis, z_criterion)"
      ],
      "metadata": {
        "colab": {
          "base_uri": "https://localhost:8080/"
        },
        "id": "11h6WEVQ3o_G",
        "outputId": "40a3d9c2-6d16-4859-ed0c-9f8a1a094ef6"
      },
      "id": "11h6WEVQ3o_G",
      "execution_count": 73,
      "outputs": [
        {
          "output_type": "stream",
          "name": "stdout",
          "text": [
            "5.78586759166485 -5.601825883812749 1.959963984540054\n"
          ]
        }
      ]
    },
    {
      "cell_type": "code",
      "source": [
        "plt.figure(figsize=(6,4))\n",
        "stats.probplot(data, dist = \"norm\", plot = plt)\n",
        "plt.title('Q-q')\n",
        "plt.show()"
      ],
      "metadata": {
        "colab": {
          "base_uri": "https://localhost:8080/",
          "height": 410
        },
        "id": "I03_YScc4dcG",
        "outputId": "9e48e46e-d208-45b9-c450-ca094cb035c7"
      },
      "id": "I03_YScc4dcG",
      "execution_count": 74,
      "outputs": [
        {
          "output_type": "display_data",
          "data": {
            "text/plain": [
              "<Figure size 600x400 with 1 Axes>"
            ],
            "image/png": "[encoded data removed]"
          },
          "metadata": {}
        }
      ]
    },
    {
      "cell_type": "markdown",
      "source": [
        "По χ²-тесту статистика χ² значительно превышает критическое значение, p-value стремится 0, значит гипотеза нормальности отвергается. Z-критерии асимметрии и эксцесса выходят за границы ±1.96. Q-Q plot демонстрирует значительные отклонения точек от прямой, особенно в хвостах.\n",
        "\n",
        "Таким образом исходные данные не соответствуют нормальному распределению ни по классическим, ни по хвостовым критериям.\n",
        "\n"
      ],
      "metadata": {
        "id": "TCAl7u9DjGzp"
      },
      "id": "TCAl7u9DjGzp"
    },
    {
      "cell_type": "markdown",
      "source": [
        "# Part III."
      ],
      "metadata": {
        "id": "wHuWYlFHZpry"
      },
      "id": "wHuWYlFHZpry"
    },
    {
      "cell_type": "code",
      "source": [
        "q25, q50, q75 = data.quantile([0.25, 0.5, 0.75])\n",
        "iqr = q75 - q25\n",
        "data_iqr = (data - q50) / iqr\n",
        "\n",
        "\n",
        "\n",
        "mean = data_iqr.mean()\n",
        "var = data_iqr.var(ddof=1)\n",
        "std = var ** 0.5\n",
        "mode = data_iqr.mode().iat[0]\n",
        "median = data_iqr.median()\n",
        "\n",
        "print(mean, var, std, mode, median)\n",
        "\n",
        "diffs = data_iqr - mean\n",
        "kurtosis = (diffs ** 4).mean() / std ** 4 - 3\n",
        "skewness = (diffs ** 3).mean() / std ** 3\n",
        "\n",
        "print(kurtosis, skewness)\n",
        "\n",
        "plt.figure(figsize=(12,4))\n",
        "\n",
        "plt.subplot(1,2,1)\n",
        "sns.histplot(data_iqr, bins = 1 + 12, kde = False)\n",
        "plt.title(\"Histogramm\")\n",
        "\n",
        "plt.subplot(1,2,2)\n",
        "ecdf = sm.distributions.ECDF(data_iqr)\n",
        "x_ecdf = np.linspace(data_iqr.min(), data_iqr.max(), 3000)\n",
        "y_ecdf = ecdf(x_ecdf)\n",
        "plt.step(x_ecdf, y_ecdf)\n",
        "plt.title(\"Empirical Distribution\")\n",
        "\n",
        "plt.tight_layout()\n",
        "plt.show()\n",
        "\n",
        "\n",
        "\n",
        "\n",
        "from scipy.stats import chi2\n",
        "\n",
        "bins = 1 + 12\n",
        "counts, bin_edges = np.histogram(data_iqr, bins = bins)\n",
        "mu, sigma = mean, std\n",
        "\n",
        "expected = []\n",
        "for i in range(len(bin_edges)-1):\n",
        "  cdf_low = stats.norm.cdf(bin_edges[i], mu, sigma)\n",
        "  cdf_high = stats.norm.cdf(bin_edges[i+1], mu, sigma)\n",
        "  expected.append(3000 * (cdf_high - cdf_low))\n",
        "\n",
        "chi2_stat = np.sum((counts - expected)**2 / expected)\n",
        "df_chi2 = bins - 1 - 2\n",
        "p_value = 1 - chi2.cdf(chi2_stat, df_chi2)\n",
        "\n",
        "print(chi2_stat, df_chi2, p_value)\n",
        "\n",
        "z_skewness = skewness / (6/3000) ** 0.5\n",
        "z_kurtosis = kurtosis / (24/3000) ** 0.5\n",
        "z_criterion = stats.norm.ppf(0.975)\n",
        "\n",
        "print(z_skewness, z_kurtosis, z_criterion)\n",
        "\n",
        "plt.figure(figsize=(6,4))\n",
        "stats.probplot(data_iqr, dist = \"norm\", plot = plt)\n",
        "plt.title('Q-q')\n",
        "plt.show()"
      ],
      "metadata": {
        "colab": {
          "base_uri": "https://localhost:8080/",
          "height": 719
        },
        "id": "QNZ4gZtiZssi",
        "outputId": "5269387e-194f-4789-ad68-110013286953"
      },
      "id": "QNZ4gZtiZssi",
      "execution_count": 92,
      "outputs": [
        {
          "output_type": "stream",
          "name": "stdout",
          "text": [
            "0.018047619047619045 0.4438426391563632 0.6662151598067724 -1.0714285714285714 0.0\n",
            "-0.5010425389729156 0.2587518648755114\n"
          ]
        },
        {
          "output_type": "display_data",
          "data": {
            "text/plain": [
              "<Figure size 1200x400 with 2 Axes>"
            ],
            "image/png": "[encoded data removed]"
          },
          "metadata": {}
        },
        {
          "output_type": "stream",
          "name": "stdout",
          "text": [
            "507.41140827758664 10 0.0\n",
            "5.785867591664836 -5.6018258838126345 1.959963984540054\n"
          ]
        },
        {
          "output_type": "display_data",
          "data": {
            "text/plain": [
              "<Figure size 600x400 with 1 Axes>"
            ],
            "image/png": "[encoded data removed]"
          },
          "metadata": {}
        }
      ]
    },
    {
      "cell_type": "code",
      "source": [
        "data_std = (data_iqr - data_iqr.mean()) / data_iqr.std(ddof = 1)\n",
        "\n",
        "\n",
        "\n",
        "mean = data_std.mean()\n",
        "var = data_std.var(ddof=1)\n",
        "std = var ** 0.5\n",
        "mode = data_std.mode().iat[0]\n",
        "median = data_std.median()\n",
        "\n",
        "print(mean, var, std, mode, median)\n",
        "\n",
        "diffs = data_std - mean\n",
        "kurtosis = (diffs ** 4).mean() / std ** 4 - 3\n",
        "skewness = (diffs ** 3).mean() / std ** 3\n",
        "\n",
        "print(kurtosis, skewness)\n",
        "\n",
        "plt.figure(figsize=(12,4))\n",
        "\n",
        "plt.subplot(1,2,1)\n",
        "sns.histplot(data_std, bins = 1 + 12, kde = False)\n",
        "plt.title(\"Histogramm\")\n",
        "\n",
        "plt.subplot(1,2,2)\n",
        "ecdf = sm.distributions.ECDF(data_std)\n",
        "x_ecdf = np.linspace(data_std.min(), data_std.max(), 3000)\n",
        "y_ecdf = ecdf(x_ecdf)\n",
        "plt.step(x_ecdf, y_ecdf)\n",
        "plt.title(\"Empirical Distribution\")\n",
        "\n",
        "plt.tight_layout()\n",
        "plt.show()\n",
        "\n",
        "\n",
        "\n",
        "\n",
        "from scipy.stats import chi2\n",
        "\n",
        "bins = 1 + 12\n",
        "counts, bin_edges = np.histogram(data_std, bins = bins)\n",
        "mu, sigma = mean, std\n",
        "\n",
        "expected = []\n",
        "for i in range(len(bin_edges)-1):\n",
        "  cdf_low = stats.norm.cdf(bin_edges[i], mu, sigma)\n",
        "  cdf_high = stats.norm.cdf(bin_edges[i+1], mu, sigma)\n",
        "  expected.append(3000 * (cdf_high - cdf_low))\n",
        "\n",
        "chi2_stat = np.sum((counts - expected)**2 / expected)\n",
        "df_chi2 = bins - 1 - 2\n",
        "p_value = 1 - chi2.cdf(chi2_stat, df_chi2)\n",
        "\n",
        "print(chi2_stat, df_chi2, p_value)\n",
        "\n",
        "z_skewness = skewness / (6/3000) ** 0.5\n",
        "z_kurtosis = kurtosis / (24/3000) ** 0.5\n",
        "z_criterion = stats.norm.ppf(0.975)\n",
        "\n",
        "print(z_skewness, z_kurtosis, z_criterion)\n",
        "\n",
        "plt.figure(figsize=(6,4))\n",
        "stats.probplot(data_std, dist = \"norm\", plot = plt)\n",
        "plt.title('Q-q')\n",
        "plt.show()\n"
      ],
      "metadata": {
        "colab": {
          "base_uri": "https://localhost:8080/",
          "height": 739
        },
        "id": "BCUXVLmVZznr",
        "outputId": "52eb1d0c-2583-4c4e-a542-f93a4482af29"
      },
      "id": "BCUXVLmVZznr",
      "execution_count": 93,
      "outputs": [
        {
          "output_type": "stream",
          "name": "stdout",
          "text": [
            "-1.4802973661668754e-17 0.9999999999999958 0.9999999999999979 -1.6353218242469592 -0.027089775400568096\n",
            "-0.5010425389728952 0.25875186487551305\n"
          ]
        },
        {
          "output_type": "display_data",
          "data": {
            "text/plain": [
              "<Figure size 1200x400 with 2 Axes>"
            ],
            "image/png": "[encoded data removed]"
          },
          "metadata": {}
        },
        {
          "output_type": "stream",
          "name": "stdout",
          "text": [
            "507.4114082775926 10 0.0\n",
            "5.785867591664873 -5.601825883812406 1.959963984540054\n"
          ]
        },
        {
          "output_type": "display_data",
          "data": {
            "text/plain": [
              "<Figure size 600x400 with 1 Axes>"
            ],
            "image/png": "[encoded data removed]"
          },
          "metadata": {}
        }
      ]
    },
    {
      "cell_type": "code",
      "source": [
        "data_log = np.log(1+data_iqr)\n",
        "\n",
        "q25, q50, q75 = data_log.quantile([0.25, 0.5, 0.75])\n",
        "iqr = q75 - q25\n",
        "lower = q25 - 1.5 * iqr\n",
        "upper = q75 + 1.5 * iqr\n",
        "data_somewhat_norm = data_log[(data_log > lower) & (data_log < upper)]\n",
        "\n",
        "\n",
        "\n",
        "\n",
        "\n",
        "mean = data_somewhat_norm.mean()\n",
        "var = data_somewhat_norm.var(ddof=1)\n",
        "std = var ** 0.5\n",
        "mode = data_somewhat_norm.mode().iat[0]\n",
        "median = data_somewhat_norm.median()\n",
        "\n",
        "print(mean, var, std, mode, median)\n",
        "\n",
        "diffs = data_somewhat_norm - mean\n",
        "kurtosis = (diffs ** 4).mean() / std ** 4 - 3\n",
        "skewness = (diffs ** 3).mean() / std ** 3\n",
        "\n",
        "print(kurtosis, skewness)\n",
        "\n",
        "plt.figure(figsize=(12,4))\n",
        "\n",
        "plt.subplot(1,2,1)\n",
        "sns.histplot(data_somewhat_norm, bins = 1 + 12, kde = False)\n",
        "plt.title(\"Histogramm\")\n",
        "\n",
        "plt.subplot(1,2,2)\n",
        "ecdf = sm.distributions.ECDF(data_somewhat_norm)\n",
        "x_ecdf = np.linspace(data_somewhat_norm.min(), data_somewhat_norm.max(), 3000)\n",
        "y_ecdf = ecdf(x_ecdf)\n",
        "plt.step(x_ecdf, y_ecdf)\n",
        "plt.title(\"Empirical Distribution\")\n",
        "\n",
        "plt.tight_layout()\n",
        "plt.show()\n",
        "\n",
        "\n",
        "\n",
        "\n",
        "from scipy.stats import chi2\n",
        "\n",
        "bins = 1 + 12\n",
        "counts, bin_edges = np.histogram(data_somewhat_norm, bins = bins)\n",
        "mu, sigma = mean, std\n",
        "\n",
        "expected = []\n",
        "for i in range(len(bin_edges)-1):\n",
        "  cdf_low = stats.norm.cdf(bin_edges[i], mu, sigma)\n",
        "  cdf_high = stats.norm.cdf(bin_edges[i+1], mu, sigma)\n",
        "  expected.append(3000 * (cdf_high - cdf_low))\n",
        "\n",
        "chi2_stat = np.sum((counts - expected)**2 / expected)\n",
        "df_chi2 = bins - 1 - 2\n",
        "p_value = 1 - chi2.cdf(chi2_stat, df_chi2)\n",
        "\n",
        "print(chi2_stat, df_chi2, p_value)\n",
        "\n",
        "z_skewness = skewness / (6/3000) ** 0.5\n",
        "z_kurtosis = kurtosis / (24/3000) ** 0.5\n",
        "z_criterion = stats.norm.ppf(0.975)\n",
        "\n",
        "print(z_skewness, z_kurtosis, z_criterion)\n",
        "\n",
        "plt.figure(figsize=(6,4))\n",
        "stats.probplot(data_somewhat_norm, dist = \"norm\", plot = plt)\n",
        "plt.title('Q-q')\n",
        "plt.show()\n"
      ],
      "metadata": {
        "colab": {
          "base_uri": "https://localhost:8080/",
          "height": 774
        },
        "id": "Hl5Dj1v6bru9",
        "outputId": "ba0e2403-0b71-4d5f-c244-07c21a1646e7"
      },
      "id": "Hl5Dj1v6bru9",
      "execution_count": 103,
      "outputs": [
        {
          "output_type": "stream",
          "name": "stderr",
          "text": [
            "/usr/local/lib/python3.12/dist-packages/pandas/core/arraylike.py:399: RuntimeWarning: invalid value encountered in log\n",
            "  result = getattr(ufunc, method)(*inputs, **kwargs)\n"
          ]
        },
        {
          "output_type": "stream",
          "name": "stdout",
          "text": [
            "0.007222582624452927 0.33494924569732965 0.5787479984391563 0.13353139262452257 0.06899287148695142\n",
            "0.02488032205550539 -0.6983110097149333\n"
          ]
        },
        {
          "output_type": "display_data",
          "data": {
            "text/plain": [
              "<Figure size 1200x400 with 2 Axes>"
            ],
            "image/png": "[encoded data removed]"
          },
          "metadata": {}
        },
        {
          "output_type": "stream",
          "name": "stdout",
          "text": [
            "377.31577612097306 10 0.0\n",
            "-15.61470887159107 0.2781704570909867 1.959963984540054\n"
          ]
        },
        {
          "output_type": "display_data",
          "data": {
            "text/plain": [
              "<Figure size 600x400 with 1 Axes>"
            ],
            "image/png": "[encoded data removed]"
          },
          "metadata": {}
        }
      ]
    },
    {
      "cell_type": "markdown",
      "source": [
        "После удаления выбросов (IQR-отсечение) размер выборки не уменьшился, нормальность не достигнута. Логарифмирование (сдвиг +1) снизило асимметрию и эксцесс, на Q-Q plot точки приблизились к линии в центральной части, однако по-прежнему наблюдались отклонения вкрайних квантилей. Стандартизация (z-преобразование) не меняет формы распределения, а лишь центрирует и масштабирует.\n",
        "\n",
        "Из всех простых приёмов наилучший эффект показало логарифмирование: асимметрия упала ближе к нулю, эксцесс стал менее отрицательным, однако идеальной нормальности не получилось."
      ],
      "metadata": {
        "id": "12CHNM3EjR4r"
      },
      "id": "12CHNM3EjR4r"
    },
    {
      "cell_type": "markdown",
      "source": [
        "# Part IV."
      ],
      "metadata": {
        "id": "_LZAEomnf4ds"
      },
      "id": "_LZAEomnf4ds"
    },
    {
      "cell_type": "code",
      "source": [
        "df = pd.read_csv(\"/content/teen_phone_addiction_dataset.csv\")\n",
        "groups = df.groupby(\"School_Grade\")[cols[N%7]]\n",
        "\n",
        "plt.figure(figsize=(8,5))\n",
        "\n",
        "for name, group in groups:\n",
        "\n",
        "  sns.histplot(group, bins = 10, label = name, alpha = 0.5)\n",
        "\n",
        "plt.legend(title = \"School Grade\")\n",
        "plt.title(\"Histogramms\")\n",
        "plt.show()"
      ],
      "metadata": {
        "colab": {
          "base_uri": "https://localhost:8080/",
          "height": 487
        },
        "id": "E-3bG_V3fdoO",
        "outputId": "298fc3d9-cf22-4fab-9d85-ef77e3289c8b"
      },
      "id": "E-3bG_V3fdoO",
      "execution_count": 115,
      "outputs": [
        {
          "output_type": "display_data",
          "data": {
            "text/plain": [
              "<Figure size 800x500 with 1 Axes>"
            ],
            "image/png": "[encoded data removed]"
          },
          "metadata": {}
        }
      ]
    },
    {
      "cell_type": "code",
      "source": [
        "stats_by_grade = groups.agg(['mean','var'])\n",
        "stats_by_grade"
      ],
      "metadata": {
        "colab": {
          "base_uri": "https://localhost:8080/",
          "height": 269
        },
        "id": "vbLjxkC7gNiZ",
        "outputId": "1c6cd064-b2a4-425f-ad44-53f3628769a2"
      },
      "id": "vbLjxkC7gNiZ",
      "execution_count": 117,
      "outputs": [
        {
          "output_type": "execute_result",
          "data": {
            "text/plain": [
              "                  mean       var\n",
              "School_Grade                    \n",
              "10th          1.453183  0.861384\n",
              "11th          1.512317  0.787609\n",
              "12th          1.520227  0.943851\n",
              "7th           1.554125  0.776682\n",
              "8th           1.538589  0.964953\n",
              "9th           1.569392  0.879880"
            ],
            "text/html": [
              "\n",
              "  <div id=\"df-bf9e98f9-0826-4d2c-895f-efdd979439e4\" class=\"colab-df-container\">\n",
              "    <div>\n",
              "<style scoped>\n",
              "    .dataframe tbody tr th:only-of-type {\n",
              "        vertical-align: middle;\n",
              "    }\n",
              "\n",
              "    .dataframe tbody tr th {\n",
              "        vertical-align: top;\n",
              "    }\n",
              "\n",
              "    .dataframe thead th {\n",
              "        text-align: right;\n",
              "    }\n",
              "</style>\n",
              "<table border=\"1\" class=\"dataframe\">\n",
              "  <thead>\n",
              "    <tr style=\"text-align: right;\">\n",
              "      <th></th>\n",
              "      <th>mean</th>\n",
              "      <th>var</th>\n",
              "    </tr>\n",
              "    <tr>\n",
              "      <th>School_Grade</th>\n",
              "      <th></th>\n",
              "      <th></th>\n",
              "    </tr>\n",
              "  </thead>\n",
              "  <tbody>\n",
              "    <tr>\n",
              "      <th>10th</th>\n",
              "      <td>1.453183</td>\n",
              "      <td>0.861384</td>\n",
              "    </tr>\n",
              "    <tr>\n",
              "      <th>11th</th>\n",
              "      <td>1.512317</td>\n",
              "      <td>0.787609</td>\n",
              "    </tr>\n",
              "    <tr>\n",
              "      <th>12th</th>\n",
              "      <td>1.520227</td>\n",
              "      <td>0.943851</td>\n",
              "    </tr>\n",
              "    <tr>\n",
              "      <th>7th</th>\n",
              "      <td>1.554125</td>\n",
              "      <td>0.776682</td>\n",
              "    </tr>\n",
              "    <tr>\n",
              "      <th>8th</th>\n",
              "      <td>1.538589</td>\n",
              "      <td>0.964953</td>\n",
              "    </tr>\n",
              "    <tr>\n",
              "      <th>9th</th>\n",
              "      <td>1.569392</td>\n",
              "      <td>0.879880</td>\n",
              "    </tr>\n",
              "  </tbody>\n",
              "</table>\n",
              "</div>\n",
              "    <div class=\"colab-df-buttons\">\n",
              "\n",
              "  <div class=\"colab-df-container\">\n",
              "    <button class=\"colab-df-convert\" onclick=\"convertToInteractive('df-bf9e98f9-0826-4d2c-895f-efdd979439e4')\"\n",
              "            title=\"Convert this dataframe to an interactive table.\"\n",
              "            style=\"display:none;\">\n",
              "\n",
              "  <svg xmlns=\"http://www.w3.org/2000/svg\" height=\"24px\" viewBox=\"0 -960 960 960\">\n",
              "    <path d=\"M120-120v-720h720v720H120Zm60-500h600v-160H180v160Zm220 220h160v-160H400v160Zm0 220h160v-160H400v160ZM180-400h160v-160H180v160Zm440 0h160v-160H620v160ZM180-180h160v-160H180v160Zm440 0h160v-160H620v160Z\"/>\n",
              "  </svg>\n",
              "    </button>\n",
              "\n",
              "  <style>\n",
              "    .colab-df-container {\n",
              "      display:flex;\n",
              "      gap: 12px;\n",
              "    }\n",
              "\n",
              "    .colab-df-convert {\n",
              "      background-color: #E8F0FE;\n",
              "      border: none;\n",
              "      border-radius: 50%;\n",
              "      cursor: pointer;\n",
              "      display: none;\n",
              "      fill: #1967D2;\n",
              "      height: 32px;\n",
              "      padding: 0 0 0 0;\n",
              "      width: 32px;\n",
              "    }\n",
              "\n",
              "    .colab-df-convert:hover {\n",
              "      background-color: #E2EBFA;\n",
              "      box-shadow: 0px 1px 2px rgba(60, 64, 67, 0.3), 0px 1px 3px 1px rgba(60, 64, 67, 0.15);\n",
              "      fill: #174EA6;\n",
              "    }\n",
              "\n",
              "    .colab-df-buttons div {\n",
              "      margin-bottom: 4px;\n",
              "    }\n",
              "\n",
              "    [theme=dark] .colab-df-convert {\n",
              "      background-color: #3B4455;\n",
              "      fill: #D2E3FC;\n",
              "    }\n",
              "\n",
              "    [theme=dark] .colab-df-convert:hover {\n",
              "      background-color: #434B5C;\n",
              "      box-shadow: 0px 1px 3px 1px rgba(0, 0, 0, 0.15);\n",
              "      filter: drop-shadow(0px 1px 2px rgba(0, 0, 0, 0.3));\n",
              "      fill: #FFFFFF;\n",
              "    }\n",
              "  </style>\n",
              "\n",
              "    <script>\n",
              "      const buttonEl =\n",
              "        document.querySelector('#df-bf9e98f9-0826-4d2c-895f-efdd979439e4 button.colab-df-convert');\n",
              "      buttonEl.style.display =\n",
              "        google.colab.kernel.accessAllowed ? 'block' : 'none';\n",
              "\n",
              "      async function convertToInteractive(key) {\n",
              "        const element = document.querySelector('#df-bf9e98f9-0826-4d2c-895f-efdd979439e4');\n",
              "        const dataTable =\n",
              "          await google.colab.kernel.invokeFunction('convertToInteractive',\n",
              "                                                    [key], {});\n",
              "        if (!dataTable) return;\n",
              "\n",
              "        const docLinkHtml = 'Like what you see? Visit the ' +\n",
              "          '<a target=\"_blank\" href=https://colab.research.google.com/notebooks/data_table.ipynb>data table notebook</a>'\n",
              "          + ' to learn more about interactive tables.';\n",
              "        element.innerHTML = '';\n",
              "        dataTable['output_type'] = 'display_data';\n",
              "        await google.colab.output.renderOutput(dataTable, element);\n",
              "        const docLink = document.createElement('div');\n",
              "        docLink.innerHTML = docLinkHtml;\n",
              "        element.appendChild(docLink);\n",
              "      }\n",
              "    </script>\n",
              "  </div>\n",
              "\n",
              "\n",
              "    <div id=\"df-b99ff05e-cd3f-4591-a889-af3c63bb3c0a\">\n",
              "      <button class=\"colab-df-quickchart\" onclick=\"quickchart('df-b99ff05e-cd3f-4591-a889-af3c63bb3c0a')\"\n",
              "                title=\"Suggest charts\"\n",
              "                style=\"display:none;\">\n",
              "\n",
              "<svg xmlns=\"http://www.w3.org/2000/svg\" height=\"24px\"viewBox=\"0 0 24 24\"\n",
              "     width=\"24px\">\n",
              "    <g>\n",
              "        <path d=\"M19 3H5c-1.1 0-2 .9-2 2v14c0 1.1.9 2 2 2h14c1.1 0 2-.9 2-2V5c0-1.1-.9-2-2-2zM9 17H7v-7h2v7zm4 0h-2V7h2v10zm4 0h-2v-4h2v4z\"/>\n",
              "    </g>\n",
              "</svg>\n",
              "      </button>\n",
              "\n",
              "<style>\n",
              "  .colab-df-quickchart {\n",
              "      --bg-color: #E8F0FE;\n",
              "      --fill-color: #1967D2;\n",
              "      --hover-bg-color: #E2EBFA;\n",
              "      --hover-fill-color: #174EA6;\n",
              "      --disabled-fill-color: #AAA;\n",
              "      --disabled-bg-color: #DDD;\n",
              "  }\n",
              "\n",
              "  [theme=dark] .colab-df-quickchart {\n",
              "      --bg-color: #3B4455;\n",
              "      --fill-color: #D2E3FC;\n",
              "      --hover-bg-color: #434B5C;\n",
              "      --hover-fill-color: #FFFFFF;\n",
              "      --disabled-bg-color: #3B4455;\n",
              "      --disabled-fill-color: #666;\n",
              "  }\n",
              "\n",
              "  .colab-df-quickchart {\n",
              "    background-color: var(--bg-color);\n",
              "    border: none;\n",
              "    border-radius: 50%;\n",
              "    cursor: pointer;\n",
              "    display: none;\n",
              "    fill: var(--fill-color);\n",
              "    height: 32px;\n",
              "    padding: 0;\n",
              "    width: 32px;\n",
              "  }\n",
              "\n",
              "  .colab-df-quickchart:hover {\n",
              "    background-color: var(--hover-bg-color);\n",
              "    box-shadow: 0 1px 2px rgba(60, 64, 67, 0.3), 0 1px 3px 1px rgba(60, 64, 67, 0.15);\n",
              "    fill: var(--button-hover-fill-color);\n",
              "  }\n",
              "\n",
              "  .colab-df-quickchart-complete:disabled,\n",
              "  .colab-df-quickchart-complete:disabled:hover {\n",
              "    background-color: var(--disabled-bg-color);\n",
              "    fill: var(--disabled-fill-color);\n",
              "    box-shadow: none;\n",
              "  }\n",
              "\n",
              "  .colab-df-spinner {\n",
              "    border: 2px solid var(--fill-color);\n",
              "    border-color: transparent;\n",
              "    border-bottom-color: var(--fill-color);\n",
              "    animation:\n",
              "      spin 1s steps(1) infinite;\n",
              "  }\n",
              "\n",
              "  @keyframes spin {\n",
              "    0% {\n",
              "      border-color: transparent;\n",
              "      border-bottom-color: var(--fill-color);\n",
              "      border-left-color: var(--fill-color);\n",
              "    }\n",
              "    20% {\n",
              "      border-color: transparent;\n",
              "      border-left-color: var(--fill-color);\n",
              "      border-top-color: var(--fill-color);\n",
              "    }\n",
              "    30% {\n",
              "      border-color: transparent;\n",
              "      border-left-color: var(--fill-color);\n",
              "      border-top-color: var(--fill-color);\n",
              "      border-right-color: var(--fill-color);\n",
              "    }\n",
              "    40% {\n",
              "      border-color: transparent;\n",
              "      border-right-color: var(--fill-color);\n",
              "      border-top-color: var(--fill-color);\n",
              "    }\n",
              "    60% {\n",
              "      border-color: transparent;\n",
              "      border-right-color: var(--fill-color);\n",
              "    }\n",
              "    80% {\n",
              "      border-color: transparent;\n",
              "      border-right-color: var(--fill-color);\n",
              "      border-bottom-color: var(--fill-color);\n",
              "    }\n",
              "    90% {\n",
              "      border-color: transparent;\n",
              "      border-bottom-color: var(--fill-color);\n",
              "    }\n",
              "  }\n",
              "</style>\n",
              "\n",
              "      <script>\n",
              "        async function quickchart(key) {\n",
              "          const quickchartButtonEl =\n",
              "            document.querySelector('#' + key + ' button');\n",
              "          quickchartButtonEl.disabled = true;  // To prevent multiple clicks.\n",
              "          quickchartButtonEl.classList.add('colab-df-spinner');\n",
              "          try {\n",
              "            const charts = await google.colab.kernel.invokeFunction(\n",
              "                'suggestCharts', [key], {});\n",
              "          } catch (error) {\n",
              "            console.error('Error during call to suggestCharts:', error);\n",
              "          }\n",
              "          quickchartButtonEl.classList.remove('colab-df-spinner');\n",
              "          quickchartButtonEl.classList.add('colab-df-quickchart-complete');\n",
              "        }\n",
              "        (() => {\n",
              "          let quickchartButtonEl =\n",
              "            document.querySelector('#df-b99ff05e-cd3f-4591-a889-af3c63bb3c0a button');\n",
              "          quickchartButtonEl.style.display =\n",
              "            google.colab.kernel.accessAllowed ? 'block' : 'none';\n",
              "        })();\n",
              "      </script>\n",
              "    </div>\n",
              "    </div>\n",
              "  </div>\n"
            ],
            "application/vnd.google.colaboratory.intrinsic+json": {
              "type": "dataframe",
              "variable_name": "stats_by_grade",
              "summary": "{\n  \"name\": \"stats_by_grade\",\n  \"rows\": 6,\n  \"fields\": [\n    {\n      \"column\": \"School_Grade\",\n      \"properties\": {\n        \"dtype\": \"string\",\n        \"num_unique_values\": 6,\n        \"samples\": [\n          \"10th\",\n          \"11th\",\n          \"9th\"\n        ],\n        \"semantic_type\": \"\",\n        \"description\": \"\"\n      }\n    },\n    {\n      \"column\": \"mean\",\n      \"properties\": {\n        \"dtype\": \"number\",\n        \"std\": 0.040851198965901635,\n        \"min\": 1.453182751540041,\n        \"max\": 1.5693916349809887,\n        \"num_unique_values\": 6,\n        \"samples\": [\n          1.453182751540041,\n          1.5123173277661794,\n          1.5693916349809887\n        ],\n        \"semantic_type\": \"\",\n        \"description\": \"\"\n      }\n    },\n    {\n      \"column\": \"var\",\n      \"properties\": {\n        \"dtype\": \"number\",\n        \"std\": 0.07763136164975985,\n        \"min\": 0.7766815408580521,\n        \"max\": 0.9649526832929328,\n        \"num_unique_values\": 6,\n        \"samples\": [\n          0.8613838821710146,\n          0.7876094723141831,\n          0.8798803910917974\n        ],\n        \"semantic_type\": \"\",\n        \"description\": \"\"\n      }\n    }\n  ]\n}"
            }
          },
          "metadata": {},
          "execution_count": 117
        }
      ]
    },
    {
      "cell_type": "markdown",
      "source": [
        "Средние значения варьируются в пределах от 1.45 (10-й класс) до 1.57 (9-й класс). Наименьшее среднее у десятиклассников, наибольшее - у девятиклассников. Одиннадцатый и двенадцатый классы демонстрируют промежуточные значения (1.51-1.52). При этом семиклассники и восьмиклассники выбиваются из монотонного тренда: у 7-го класса среднее (≈1.55) даже чуть выше, чем у 11-12-го, а у 8-го (≈1.54) почти равняется двенадцатому.\n",
        "\n",
        "Дисперсия внутри групп тоже различается: наименьшая у 7-го (0.78) и 11-го (0.79) классов — это более однородные по mod7 выборки; наибольшая у 8-го (0.96) и 12-го (0.94) классов — разброс значений максимален; у 10-го и 9-го классов дисперсия средняя (0.86–0.88)."
      ],
      "metadata": {
        "id": "VVoZJQKGj6OP"
      },
      "id": "VVoZJQKGj6OP"
    },
    {
      "cell_type": "code",
      "source": [],
      "metadata": {
        "id": "KyTA6KsUkOY_"
      },
      "id": "KyTA6KsUkOY_",
      "execution_count": null,
      "outputs": []
    }
  ],
  "metadata": {
    "kernelspec": {
      "display_name": "oiad",
      "language": "python",
      "name": "python3"
    },
    "language_info": {
      "codemirror_mode": {
        "name": "ipython",
        "version": 3
      },
      "file_extension": ".py",
      "mimetype": "text/x-python",
      "name": "python",
      "nbconvert_exporter": "python",
      "pygments_lexer": "ipython3",
      "version": "3.13.5"
    },
    "colab": {
      "provenance": []
    }
  },
  "nbformat": 4,
  "nbformat_minor": 5
}